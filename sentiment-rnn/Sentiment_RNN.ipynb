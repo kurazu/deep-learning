{
 "cells": [
  {
   "cell_type": "markdown",
   "metadata": {
    "deletable": true,
    "editable": true
   },
   "source": [
    "# Sentiment Analysis with an RNN\n",
    "\n",
    "In this notebook, you'll implement a recurrent neural network that performs sentiment analysis. Using an RNN rather than a feedfoward network is more accurate since we can include information about the *sequence* of words. Here we'll use a dataset of movie reviews, accompanied by labels.\n",
    "\n",
    "The architecture for this network is shown below.\n",
    "\n",
    "<img src=\"assets/network_diagram.png\" width=400px>\n",
    "\n",
    "Here, we'll pass in words to an embedding layer. We need an embedding layer because we have tens of thousands of words, so we'll need a more efficient representation for our input data than one-hot encoded vectors. You should have seen this before from the word2vec lesson. You can actually train up an embedding with word2vec and use it here. But it's good enough to just have an embedding layer and let the network learn the embedding table on it's own.\n",
    "\n",
    "From the embedding layer, the new representations will be passed to LSTM cells. These will add recurrent connections to the network so we can include information about the sequence of words in the data. Finally, the LSTM cells will go to a sigmoid output layer here. We're using the sigmoid because we're trying to predict if this text has positive or negative sentiment. The output layer will just be a single unit then, with a sigmoid activation function.\n",
    "\n",
    "We don't care about the sigmoid outputs except for the very last one, we can ignore the rest. We'll calculate the cost from the output of the last step and the training label."
   ]
  },
  {
   "cell_type": "code",
   "execution_count": 1,
   "metadata": {
    "collapsed": true,
    "deletable": true,
    "editable": true
   },
   "outputs": [],
   "source": [
    "import numpy as np\n",
    "import tensorflow as tf"
   ]
  },
  {
   "cell_type": "code",
   "execution_count": 2,
   "metadata": {
    "collapsed": true,
    "deletable": true,
    "editable": true
   },
   "outputs": [],
   "source": [
    "with open('../sentiment-network/reviews.txt', 'r') as f:\n",
    "    reviews = f.read()\n",
    "with open('../sentiment-network/labels.txt', 'r') as f:\n",
    "    labels = f.read()"
   ]
  },
  {
   "cell_type": "code",
   "execution_count": 3,
   "metadata": {
    "collapsed": false,
    "deletable": true,
    "editable": true
   },
   "outputs": [
    {
     "data": {
      "text/plain": [
       "'bromwell high is a cartoon comedy . it ran at the same time as some other programs about school life  such as  teachers  . my   years in the teaching profession lead me to believe that bromwell high  s satire is much closer to reality than is  teachers  . the scramble to survive financially  the insightful students who can see right through their pathetic teachers  pomp  the pettiness of the whole situation  all remind me of the schools i knew and their students . when i saw the episode in which a student repeatedly tried to burn down the school  i immediately recalled . . . . . . . . . at . . . . . . . . . . high . a classic line inspector i  m here to sack one of your teachers . student welcome to bromwell high . i expect that many adults of my age think that bromwell high is far fetched . what a pity that it isn  t   \\nstory of a man who has unnatural feelings for a pig . starts out with a opening scene that is a terrific example of absurd comedy . a formal orchestra audience is turned into an insane  violent mob by the crazy chantings of it  s singers . unfortunately it stays absurd the whole time with no general narrative eventually making it just too off putting . even those from the era should be turned off . the cryptic dialogue would make shakespeare seem easy to a third grader . on a technical level it  s better than you might think with some good cinematography by future great vilmos zsigmond . future stars sally kirkland and frederic forrest can be seen briefly .  \\nhomelessness  or houselessness as george carlin stated  has been an issue for years but never a plan to help those on the street that were once considered human who did everything from going to school  work  or vote for the matter . most people think of the homeless as just a lost cause while worrying about things such as racism  the war on iraq  pressuring kids to succeed  technology  the elections  inflation  or worrying if they  ll be next to end up on the streets .  br    br   but what if y'"
      ]
     },
     "execution_count": 3,
     "metadata": {},
     "output_type": "execute_result"
    }
   ],
   "source": [
    "reviews[:2000]"
   ]
  },
  {
   "cell_type": "markdown",
   "metadata": {
    "deletable": true,
    "editable": true
   },
   "source": [
    "## Data preprocessing\n",
    "\n",
    "The first step when building a neural network model is getting your data into the proper form to feed into the network. Since we're using embedding layers, we'll need to encode each word with an integer. We'll also want to clean it up a bit.\n",
    "\n",
    "You can see an example of the reviews data above. We'll want to get rid of those periods. Also, you might notice that the reviews are delimited with newlines `\\n`. To deal with those, I'm going to split the text into each review using `\\n` as the delimiter. Then I can combined all the reviews back together into one big string.\n",
    "\n",
    "First, let's remove all punctuation. Then get all the text without the newlines and split it into individual words."
   ]
  },
  {
   "cell_type": "code",
   "execution_count": 4,
   "metadata": {
    "collapsed": true,
    "deletable": true,
    "editable": true
   },
   "outputs": [],
   "source": [
    "from string import punctuation\n",
    "all_text = ''.join([c for c in reviews if c not in punctuation])\n",
    "reviews = all_text.split('\\n')\n",
    "\n",
    "all_text = ' '.join(reviews)\n",
    "words = all_text.split()"
   ]
  },
  {
   "cell_type": "code",
   "execution_count": 5,
   "metadata": {
    "collapsed": false,
    "deletable": true,
    "editable": true
   },
   "outputs": [
    {
     "data": {
      "text/plain": [
       "'bromwell high is a cartoon comedy  it ran at the same time as some other programs about school life  such as  teachers   my   years in the teaching profession lead me to believe that bromwell high  s satire is much closer to reality than is  teachers   the scramble to survive financially  the insightful students who can see right through their pathetic teachers  pomp  the pettiness of the whole situation  all remind me of the schools i knew and their students  when i saw the episode in which a student repeatedly tried to burn down the school  i immediately recalled          at           high  a classic line inspector i  m here to sack one of your teachers  student welcome to bromwell high  i expect that many adults of my age think that bromwell high is far fetched  what a pity that it isn  t    story of a man who has unnatural feelings for a pig  starts out with a opening scene that is a terrific example of absurd comedy  a formal orchestra audience is turned into an insane  violent mob by the crazy chantings of it  s singers  unfortunately it stays absurd the whole time with no general narrative eventually making it just too off putting  even those from the era should be turned off  the cryptic dialogue would make shakespeare seem easy to a third grader  on a technical level it  s better than you might think with some good cinematography by future great vilmos zsigmond  future stars sally kirkland and frederic forrest can be seen briefly    homelessness  or houselessness as george carlin stated  has been an issue for years but never a plan to help those on the street that were once considered human who did everything from going to school  work  or vote for the matter  most people think of the homeless as just a lost cause while worrying about things such as racism  the war on iraq  pressuring kids to succeed  technology  the elections  inflation  or worrying if they  ll be next to end up on the streets   br    br   but what if you were given a bet to live on the st'"
      ]
     },
     "execution_count": 5,
     "metadata": {},
     "output_type": "execute_result"
    }
   ],
   "source": [
    "all_text[:2000]"
   ]
  },
  {
   "cell_type": "code",
   "execution_count": 6,
   "metadata": {
    "collapsed": false,
    "deletable": true,
    "editable": true
   },
   "outputs": [
    {
     "data": {
      "text/plain": [
       "['bromwell',\n",
       " 'high',\n",
       " 'is',\n",
       " 'a',\n",
       " 'cartoon',\n",
       " 'comedy',\n",
       " 'it',\n",
       " 'ran',\n",
       " 'at',\n",
       " 'the',\n",
       " 'same',\n",
       " 'time',\n",
       " 'as',\n",
       " 'some',\n",
       " 'other',\n",
       " 'programs',\n",
       " 'about',\n",
       " 'school',\n",
       " 'life',\n",
       " 'such',\n",
       " 'as',\n",
       " 'teachers',\n",
       " 'my',\n",
       " 'years',\n",
       " 'in',\n",
       " 'the',\n",
       " 'teaching',\n",
       " 'profession',\n",
       " 'lead',\n",
       " 'me',\n",
       " 'to',\n",
       " 'believe',\n",
       " 'that',\n",
       " 'bromwell',\n",
       " 'high',\n",
       " 's',\n",
       " 'satire',\n",
       " 'is',\n",
       " 'much',\n",
       " 'closer',\n",
       " 'to',\n",
       " 'reality',\n",
       " 'than',\n",
       " 'is',\n",
       " 'teachers',\n",
       " 'the',\n",
       " 'scramble',\n",
       " 'to',\n",
       " 'survive',\n",
       " 'financially',\n",
       " 'the',\n",
       " 'insightful',\n",
       " 'students',\n",
       " 'who',\n",
       " 'can',\n",
       " 'see',\n",
       " 'right',\n",
       " 'through',\n",
       " 'their',\n",
       " 'pathetic',\n",
       " 'teachers',\n",
       " 'pomp',\n",
       " 'the',\n",
       " 'pettiness',\n",
       " 'of',\n",
       " 'the',\n",
       " 'whole',\n",
       " 'situation',\n",
       " 'all',\n",
       " 'remind',\n",
       " 'me',\n",
       " 'of',\n",
       " 'the',\n",
       " 'schools',\n",
       " 'i',\n",
       " 'knew',\n",
       " 'and',\n",
       " 'their',\n",
       " 'students',\n",
       " 'when',\n",
       " 'i',\n",
       " 'saw',\n",
       " 'the',\n",
       " 'episode',\n",
       " 'in',\n",
       " 'which',\n",
       " 'a',\n",
       " 'student',\n",
       " 'repeatedly',\n",
       " 'tried',\n",
       " 'to',\n",
       " 'burn',\n",
       " 'down',\n",
       " 'the',\n",
       " 'school',\n",
       " 'i',\n",
       " 'immediately',\n",
       " 'recalled',\n",
       " 'at',\n",
       " 'high']"
      ]
     },
     "execution_count": 6,
     "metadata": {},
     "output_type": "execute_result"
    }
   ],
   "source": [
    "words[:100]"
   ]
  },
  {
   "cell_type": "markdown",
   "metadata": {
    "deletable": true,
    "editable": true
   },
   "source": [
    "### Encoding the words\n",
    "\n",
    "The embedding lookup requires that we pass in integers to our network. The easiest way to do this is to create dictionaries that map the words in the vocabulary to integers. Then we can convert each of our reviews into integers so they can be passed into the network.\n",
    "\n",
    "> **Exercise:** Now you're going to encode the words with integers. Build a dictionary that maps words to integers. Later we're going to pad our input vectors with zeros, so make sure the integers **start at 1, not 0**.\n",
    "> Also, convert the reviews to integers and store the reviews in a new list called `reviews_ints`. "
   ]
  },
  {
   "cell_type": "code",
   "execution_count": 7,
   "metadata": {
    "collapsed": true,
    "deletable": true,
    "editable": true
   },
   "outputs": [],
   "source": [
    "# Create your dictionary that maps vocab words to integers here\n",
    "vocab_to_int = {word: idx for idx, word in enumerate(set(words), 1)}"
   ]
  },
  {
   "cell_type": "code",
   "execution_count": 9,
   "metadata": {
    "collapsed": false
   },
   "outputs": [
    {
     "name": "stdout",
     "output_type": "stream",
     "text": [
      "[['bromwell', 'high', 'is', 'a', 'cartoon', 'comedy', 'it', 'ran', 'at', 'the', 'same', 'time', 'as', 'some', 'other', 'programs', 'about', 'school', 'life', 'such', 'as', 'teachers', 'my', 'years', 'in', 'the', 'teaching', 'profession', 'lead', 'me', 'to', 'believe', 'that', 'bromwell', 'high', 's', 'satire', 'is', 'much', 'closer', 'to', 'reality', 'than', 'is', 'teachers', 'the', 'scramble', 'to', 'survive', 'financially', 'the', 'insightful', 'students', 'who', 'can', 'see', 'right', 'through', 'their', 'pathetic', 'teachers', 'pomp', 'the', 'pettiness', 'of', 'the', 'whole', 'situation', 'all', 'remind', 'me', 'of', 'the', 'schools', 'i', 'knew', 'and', 'their', 'students', 'when', 'i', 'saw', 'the', 'episode', 'in', 'which', 'a', 'student', 'repeatedly', 'tried', 'to', 'burn', 'down', 'the', 'school', 'i', 'immediately', 'recalled', 'at', 'high', 'a', 'classic', 'line', 'inspector', 'i', 'm', 'here', 'to', 'sack', 'one', 'of', 'your', 'teachers', 'student', 'welcome', 'to', 'bromwell', 'high', 'i', 'expect', 'that', 'many', 'adults', 'of', 'my', 'age', 'think', 'that', 'bromwell', 'high', 'is', 'far', 'fetched', 'what', 'a', 'pity', 'that', 'it', 'isn', 't'], ['story', 'of', 'a', 'man', 'who', 'has', 'unnatural', 'feelings', 'for', 'a', 'pig', 'starts', 'out', 'with', 'a', 'opening', 'scene', 'that', 'is', 'a', 'terrific', 'example', 'of', 'absurd', 'comedy', 'a', 'formal', 'orchestra', 'audience', 'is', 'turned', 'into', 'an', 'insane', 'violent', 'mob', 'by', 'the', 'crazy', 'chantings', 'of', 'it', 's', 'singers', 'unfortunately', 'it', 'stays', 'absurd', 'the', 'whole', 'time', 'with', 'no', 'general', 'narrative', 'eventually', 'making', 'it', 'just', 'too', 'off', 'putting', 'even', 'those', 'from', 'the', 'era', 'should', 'be', 'turned', 'off', 'the', 'cryptic', 'dialogue', 'would', 'make', 'shakespeare', 'seem', 'easy', 'to', 'a', 'third', 'grader', 'on', 'a', 'technical', 'level', 'it', 's', 'better', 'than', 'you', 'might', 'think', 'with', 'some', 'good', 'cinematography', 'by', 'future', 'great', 'vilmos', 'zsigmond', 'future', 'stars', 'sally', 'kirkland', 'and', 'frederic', 'forrest', 'can', 'be', 'seen', 'briefly'], ['homelessness', 'or', 'houselessness', 'as', 'george', 'carlin', 'stated', 'has', 'been', 'an', 'issue', 'for', 'years', 'but', 'never', 'a', 'plan', 'to', 'help', 'those', 'on', 'the', 'street', 'that', 'were', 'once', 'considered', 'human', 'who', 'did', 'everything', 'from', 'going', 'to', 'school', 'work', 'or', 'vote', 'for', 'the', 'matter', 'most', 'people', 'think', 'of', 'the', 'homeless', 'as', 'just', 'a', 'lost', 'cause', 'while', 'worrying', 'about', 'things', 'such', 'as', 'racism', 'the', 'war', 'on', 'iraq', 'pressuring', 'kids', 'to', 'succeed', 'technology', 'the', 'elections', 'inflation', 'or', 'worrying', 'if', 'they', 'll', 'be', 'next', 'to', 'end', 'up', 'on', 'the', 'streets', 'br', 'br', 'but', 'what', 'if', 'you', 'were', 'given', 'a', 'bet', 'to', 'live', 'on', 'the', 'streets', 'for', 'a', 'month', 'without', 'the', 'luxuries', 'you', 'once', 'had', 'from', 'a', 'home', 'the', 'entertainment', 'sets', 'a', 'bathroom', 'pictures', 'on', 'the', 'wall', 'a', 'computer', 'and', 'everything', 'you', 'once', 'treasure', 'to', 'see', 'what', 'it', 's', 'like', 'to', 'be', 'homeless', 'that', 'is', 'goddard', 'bolt', 's', 'lesson', 'br', 'br', 'mel', 'brooks', 'who', 'directs', 'who', 'stars', 'as', 'bolt', 'plays', 'a', 'rich', 'man', 'who', 'has', 'everything', 'in', 'the', 'world', 'until', 'deciding', 'to', 'make', 'a', 'bet', 'with', 'a', 'sissy', 'rival', 'jeffery', 'tambor', 'to', 'see', 'if', 'he', 'can', 'live', 'in', 'the', 'streets', 'for', 'thirty', 'days', 'without', 'the', 'luxuries', 'if', 'bolt', 'succeeds', 'he', 'can', 'do', 'what', 'he', 'wants', 'with', 'a', 'future', 'project', 'of', 'making', 'more', 'buildings', 'the', 'bet', 's', 'on', 'where', 'bolt', 'is', 'thrown', 'on', 'the', 'street', 'with', 'a', 'bracelet', 'on', 'his', 'leg', 'to', 'monitor', 'his', 'every', 'move', 'where', 'he', 'can', 't', 'step', 'off', 'the', 'sidewalk', 'he', 's', 'given', 'the', 'nickname', 'pepto', 'by', 'a', 'vagrant', 'after', 'it', 's', 'written', 'on', 'his', 'forehead', 'where', 'bolt', 'meets', 'other', 'characters', 'including', 'a', 'woman', 'by', 'the', 'name', 'of', 'molly', 'lesley', 'ann', 'warren', 'an', 'ex', 'dancer', 'who', 'got', 'divorce', 'before', 'losing', 'her', 'home', 'and', 'her', 'pals', 'sailor', 'howard', 'morris', 'and', 'fumes', 'teddy', 'wilson', 'who', 'are', 'already', 'used', 'to', 'the', 'streets', 'they', 're', 'survivors', 'bolt', 'isn', 't', 'he', 's', 'not', 'used', 'to', 'reaching', 'mutual', 'agreements', 'like', 'he', 'once', 'did', 'when', 'being', 'rich', 'where', 'it', 's', 'fight', 'or', 'flight', 'kill', 'or', 'be', 'killed', 'br', 'br', 'while', 'the', 'love', 'connection', 'between', 'molly', 'and', 'bolt', 'wasn', 't', 'necessary', 'to', 'plot', 'i', 'found', 'life', 'stinks', 'to', 'be', 'one', 'of', 'mel', 'brooks', 'observant', 'films', 'where', 'prior', 'to', 'being', 'a', 'comedy', 'it', 'shows', 'a', 'tender', 'side', 'compared', 'to', 'his', 'slapstick', 'work', 'such', 'as', 'blazing', 'saddles', 'young', 'frankenstein', 'or', 'spaceballs', 'for', 'the', 'matter', 'to', 'show', 'what', 'it', 's', 'like', 'having', 'something', 'valuable', 'before', 'losing', 'it', 'the', 'next', 'day', 'or', 'on', 'the', 'other', 'hand', 'making', 'a', 'stupid', 'bet', 'like', 'all', 'rich', 'people', 'do', 'when', 'they', 'don', 't', 'know', 'what', 'to', 'do', 'with', 'their', 'money', 'maybe', 'they', 'should', 'give', 'it', 'to', 'the', 'homeless', 'instead', 'of', 'using', 'it', 'like', 'monopoly', 'money', 'br', 'br', 'or', 'maybe', 'this', 'film', 'will', 'inspire', 'you', 'to', 'help', 'others'], ['airport', 'starts', 'as', 'a', 'brand', 'new', 'luxury', 'plane', 'is', 'loaded', 'up', 'with', 'valuable', 'paintings', 'such', 'belonging', 'to', 'rich', 'businessman', 'philip', 'stevens', 'james', 'stewart', 'who', 'is', 'flying', 'them', 'a', 'bunch', 'of', 'vip', 's', 'to', 'his', 'estate', 'in', 'preparation', 'of', 'it', 'being', 'opened', 'to', 'the', 'public', 'as', 'a', 'museum', 'also', 'on', 'board', 'is', 'stevens', 'daughter', 'julie', 'kathleen', 'quinlan', 'her', 'son', 'the', 'luxury', 'jetliner', 'takes', 'off', 'as', 'planned', 'but', 'mid', 'air', 'the', 'plane', 'is', 'hi', 'jacked', 'by', 'the', 'co', 'pilot', 'chambers', 'robert', 'foxworth', 'his', 'two', 'accomplice', 's', 'banker', 'monte', 'markham', 'wilson', 'michael', 'pataki', 'who', 'knock', 'the', 'passengers', 'crew', 'out', 'with', 'sleeping', 'gas', 'they', 'plan', 'to', 'steal', 'the', 'valuable', 'cargo', 'land', 'on', 'a', 'disused', 'plane', 'strip', 'on', 'an', 'isolated', 'island', 'but', 'while', 'making', 'his', 'descent', 'chambers', 'almost', 'hits', 'an', 'oil', 'rig', 'in', 'the', 'ocean', 'loses', 'control', 'of', 'the', 'plane', 'sending', 'it', 'crashing', 'into', 'the', 'sea', 'where', 'it', 'sinks', 'to', 'the', 'bottom', 'right', 'bang', 'in', 'the', 'middle', 'of', 'the', 'bermuda', 'triangle', 'with', 'air', 'in', 'short', 'supply', 'water', 'leaking', 'in', 'having', 'flown', 'over', 'miles', 'off', 'course', 'the', 'problems', 'mount', 'for', 'the', 'survivor', 's', 'as', 'they', 'await', 'help', 'with', 'time', 'fast', 'running', 'out', 'br', 'br', 'also', 'known', 'under', 'the', 'slightly', 'different', 'tile', 'airport', 'this', 'second', 'sequel', 'to', 'the', 'smash', 'hit', 'disaster', 'thriller', 'airport', 'was', 'directed', 'by', 'jerry', 'jameson', 'while', 'once', 'again', 'like', 'it', 's', 'predecessors', 'i', 'can', 't', 'say', 'airport', 'is', 'any', 'sort', 'of', 'forgotten', 'classic', 'it', 'is', 'entertaining', 'although', 'not', 'necessarily', 'for', 'the', 'right', 'reasons', 'out', 'of', 'the', 'three', 'airport', 'films', 'i', 'have', 'seen', 'so', 'far', 'i', 'actually', 'liked', 'this', 'one', 'the', 'best', 'just', 'it', 'has', 'my', 'favourite', 'plot', 'of', 'the', 'three', 'with', 'a', 'nice', 'mid', 'air', 'hi', 'jacking', 'then', 'the', 'crashing', 'didn', 't', 'he', 'see', 'the', 'oil', 'rig', 'sinking', 'of', 'the', 'maybe', 'the', 'makers', 'were', 'trying', 'to', 'cross', 'the', 'original', 'airport', 'with', 'another', 'popular', 'disaster', 'flick', 'of', 'the', 'period', 'the', 'poseidon', 'adventure', 'submerged', 'is', 'where', 'it', 'stays', 'until', 'the', 'end', 'with', 'a', 'stark', 'dilemma', 'facing', 'those', 'trapped', 'inside', 'either', 'suffocate', 'when', 'the', 'air', 'runs', 'out', 'or', 'drown', 'as', 'the', 'floods', 'or', 'if', 'any', 'of', 'the', 'doors', 'are', 'opened', 'it', 's', 'a', 'decent', 'idea', 'that', 'could', 'have', 'made', 'for', 'a', 'great', 'little', 'disaster', 'flick', 'but', 'bad', 'unsympathetic', 'character', 's', 'dull', 'dialogue', 'lethargic', 'set', 'pieces', 'a', 'real', 'lack', 'of', 'danger', 'or', 'suspense', 'or', 'tension', 'means', 'this', 'is', 'a', 'missed', 'opportunity', 'while', 'the', 'rather', 'sluggish', 'plot', 'keeps', 'one', 'entertained', 'for', 'odd', 'minutes', 'not', 'that', 'much', 'happens', 'after', 'the', 'plane', 'sinks', 'there', 's', 'not', 'as', 'much', 'urgency', 'as', 'i', 'thought', 'there', 'should', 'have', 'been', 'even', 'when', 'the', 'navy', 'become', 'involved', 'things', 'don', 't', 'pick', 'up', 'that', 'much', 'with', 'a', 'few', 'shots', 'of', 'huge', 'ships', 'helicopters', 'flying', 'about', 'but', 'there', 's', 'just', 'something', 'lacking', 'here', 'george', 'kennedy', 'as', 'the', 'jinxed', 'airline', 'worker', 'joe', 'patroni', 'is', 'back', 'but', 'only', 'gets', 'a', 'couple', 'of', 'scenes', 'barely', 'even', 'says', 'anything', 'preferring', 'to', 'just', 'look', 'worried', 'in', 'the', 'background', 'br', 'br', 'the', 'home', 'video', 'theatrical', 'version', 'of', 'airport', 'run', 'minutes', 'while', 'the', 'us', 'tv', 'versions', 'add', 'an', 'extra', 'hour', 'of', 'footage', 'including', 'a', 'new', 'opening', 'credits', 'sequence', 'many', 'more', 'scenes', 'with', 'george', 'kennedy', 'as', 'patroni', 'flashbacks', 'to', 'flesh', 'out', 'character', 's', 'longer', 'rescue', 'scenes', 'the', 'discovery', 'or', 'another', 'couple', 'of', 'dead', 'bodies', 'including', 'the', 'navigator', 'while', 'i', 'would', 'like', 'to', 'see', 'this', 'extra', 'footage', 'i', 'am', 'not', 'sure', 'i', 'could', 'sit', 'through', 'a', 'near', 'three', 'hour', 'cut', 'of', 'airport', 'as', 'expected', 'the', 'film', 'has', 'dated', 'badly', 'with', 'horrible', 'fashions', 'interior', 'design', 'choices', 'i', 'will', 'say', 'no', 'more', 'other', 'than', 'the', 'toy', 'plane', 'model', 'effects', 'aren', 't', 'great', 'either', 'along', 'with', 'the', 'other', 'two', 'airport', 'sequels', 'this', 'takes', 'pride', 'of', 'place', 'in', 'the', 'razzie', 'award', 's', 'hall', 'of', 'shame', 'although', 'i', 'can', 'think', 'of', 'lots', 'of', 'worse', 'films', 'than', 'this', 'so', 'i', 'reckon', 'that', 's', 'a', 'little', 'harsh', 'the', 'action', 'scenes', 'are', 'a', 'little', 'dull', 'unfortunately', 'the', 'pace', 'is', 'slow', 'not', 'much', 'excitement', 'or', 'tension', 'is', 'generated', 'which', 'is', 'a', 'shame', 'as', 'i', 'reckon', 'this', 'could', 'have', 'been', 'a', 'pretty', 'good', 'film', 'if', 'made', 'properly', 'br', 'br', 'the', 'production', 'values', 'are', 'alright', 'if', 'nothing', 'spectacular', 'the', 'acting', 'isn', 't', 'great', 'two', 'time', 'oscar', 'winner', 'jack', 'lemmon', 'has', 'said', 'since', 'it', 'was', 'a', 'mistake', 'to', 'star', 'in', 'this', 'one', 'time', 'oscar', 'winner', 'james', 'stewart', 'looks', 'old', 'frail', 'also', 'one', 'time', 'oscar', 'winner', 'lee', 'grant', 'looks', 'drunk', 'while', 'sir', 'christopher', 'lee', 'is', 'given', 'little', 'to', 'do', 'there', 'are', 'plenty', 'of', 'other', 'familiar', 'faces', 'to', 'look', 'out', 'for', 'too', 'br', 'br', 'airport', 'is', 'the', 'most', 'disaster', 'orientated', 'of', 'the', 'three', 'airport', 'films', 'so', 'far', 'i', 'liked', 'the', 'ideas', 'behind', 'it', 'even', 'if', 'they', 'were', 'a', 'bit', 'silly', 'the', 'production', 'bland', 'direction', 'doesn', 't', 'help', 'though', 'a', 'film', 'about', 'a', 'sunken', 'plane', 'just', 'shouldn', 't', 'be', 'this', 'boring', 'or', 'lethargic', 'followed', 'by', 'the', 'concorde', 'airport'], ['brilliant', 'over', 'acting', 'by', 'lesley', 'ann', 'warren', 'best', 'dramatic', 'hobo', 'lady', 'i', 'have', 'ever', 'seen', 'and', 'love', 'scenes', 'in', 'clothes', 'warehouse', 'are', 'second', 'to', 'none', 'the', 'corn', 'on', 'face', 'is', 'a', 'classic', 'as', 'good', 'as', 'anything', 'in', 'blazing', 'saddles', 'the', 'take', 'on', 'lawyers', 'is', 'also', 'superb', 'after', 'being', 'accused', 'of', 'being', 'a', 'turncoat', 'selling', 'out', 'his', 'boss', 'and', 'being', 'dishonest', 'the', 'lawyer', 'of', 'pepto', 'bolt', 'shrugs', 'indifferently', 'i', 'm', 'a', 'lawyer', 'he', 'says', 'three', 'funny', 'words', 'jeffrey', 'tambor', 'a', 'favorite', 'from', 'the', 'later', 'larry', 'sanders', 'show', 'is', 'fantastic', 'here', 'too', 'as', 'a', 'mad', 'millionaire', 'who', 'wants', 'to', 'crush', 'the', 'ghetto', 'his', 'character', 'is', 'more', 'malevolent', 'than', 'usual', 'the', 'hospital', 'scene', 'and', 'the', 'scene', 'where', 'the', 'homeless', 'invade', 'a', 'demolition', 'site', 'are', 'all', 'time', 'classics', 'look', 'for', 'the', 'legs', 'scene', 'and', 'the', 'two', 'big', 'diggers', 'fighting', 'one', 'bleeds', 'this', 'movie', 'gets', 'better', 'each', 'time', 'i', 'see', 'it', 'which', 'is', 'quite', 'often'], ['this', 'film', 'lacked', 'something', 'i', 'couldn', 't', 'put', 'my', 'finger', 'on', 'at', 'first', 'charisma', 'on', 'the', 'part', 'of', 'the', 'leading', 'actress', 'this', 'inevitably', 'translated', 'to', 'lack', 'of', 'chemistry', 'when', 'she', 'shared', 'the', 'screen', 'with', 'her', 'leading', 'man', 'even', 'the', 'romantic', 'scenes', 'came', 'across', 'as', 'being', 'merely', 'the', 'actors', 'at', 'play', 'it', 'could', 'very', 'well', 'have', 'been', 'the', 'director', 'who', 'miscalculated', 'what', 'he', 'needed', 'from', 'the', 'actors', 'i', 'just', 'don', 't', 'know', 'br', 'br', 'but', 'could', 'it', 'have', 'been', 'the', 'screenplay', 'just', 'exactly', 'who', 'was', 'the', 'chef', 'in', 'love', 'with', 'he', 'seemed', 'more', 'enamored', 'of', 'his', 'culinary', 'skills', 'and', 'restaurant', 'and', 'ultimately', 'of', 'himself', 'and', 'his', 'youthful', 'exploits', 'than', 'of', 'anybody', 'or', 'anything', 'else', 'he', 'never', 'convinced', 'me', 'he', 'was', 'in', 'love', 'with', 'the', 'princess', 'br', 'br', 'i', 'was', 'disappointed', 'in', 'this', 'movie', 'but', 'don', 't', 'forget', 'it', 'was', 'nominated', 'for', 'an', 'oscar', 'so', 'judge', 'for', 'yourself'], ['this', 'is', 'easily', 'the', 'most', 'underrated', 'film', 'inn', 'the', 'brooks', 'cannon', 'sure', 'its', 'flawed', 'it', 'does', 'not', 'give', 'a', 'realistic', 'view', 'of', 'homelessness', 'unlike', 'say', 'how', 'citizen', 'kane', 'gave', 'a', 'realistic', 'view', 'of', 'lounge', 'singers', 'or', 'titanic', 'gave', 'a', 'realistic', 'view', 'of', 'italians', 'you', 'idiots', 'many', 'of', 'the', 'jokes', 'fall', 'flat', 'but', 'still', 'this', 'film', 'is', 'very', 'lovable', 'in', 'a', 'way', 'many', 'comedies', 'are', 'not', 'and', 'to', 'pull', 'that', 'off', 'in', 'a', 'story', 'about', 'some', 'of', 'the', 'most', 'traditionally', 'reviled', 'members', 'of', 'society', 'is', 'truly', 'impressive', 'its', 'not', 'the', 'fisher', 'king', 'but', 'its', 'not', 'crap', 'either', 'my', 'only', 'complaint', 'is', 'that', 'brooks', 'should', 'have', 'cast', 'someone', 'else', 'in', 'the', 'lead', 'i', 'love', 'mel', 'as', 'a', 'director', 'and', 'writer', 'not', 'so', 'much', 'as', 'a', 'lead'], ['sorry', 'everyone', 'i', 'know', 'this', 'is', 'supposed', 'to', 'be', 'an', 'art', 'film', 'but', 'wow', 'they', 'should', 'have', 'handed', 'out', 'guns', 'at', 'the', 'screening', 'so', 'people', 'could', 'blow', 'their', 'brains', 'out', 'and', 'not', 'watch', 'although', 'the', 'scene', 'design', 'and', 'photographic', 'direction', 'was', 'excellent', 'this', 'story', 'is', 'too', 'painful', 'to', 'watch', 'the', 'absence', 'of', 'a', 'sound', 'track', 'was', 'brutal', 'the', 'loooonnnnng', 'shots', 'were', 'too', 'long', 'how', 'long', 'can', 'you', 'watch', 'two', 'people', 'just', 'sitting', 'there', 'and', 'talking', 'especially', 'when', 'the', 'dialogue', 'is', 'two', 'people', 'complaining', 'i', 'really', 'had', 'a', 'hard', 'time', 'just', 'getting', 'through', 'this', 'film', 'the', 'performances', 'were', 'excellent', 'but', 'how', 'much', 'of', 'that', 'dark', 'sombre', 'uninspired', 'stuff', 'can', 'you', 'take', 'the', 'only', 'thing', 'i', 'liked', 'was', 'maureen', 'stapleton', 'and', 'her', 'red', 'dress', 'and', 'dancing', 'scene', 'otherwise', 'this', 'was', 'a', 'ripoff', 'of', 'bergman', 'and', 'i', 'm', 'no', 'fan', 'f', 'his', 'either', 'i', 'think', 'anyone', 'who', 'says', 'they', 'enjoyed', 'hours', 'of', 'this', 'is', 'well', 'lying'], ['this', 'is', 'not', 'the', 'typical', 'mel', 'brooks', 'film', 'it', 'was', 'much', 'less', 'slapstick', 'than', 'most', 'of', 'his', 'movies', 'and', 'actually', 'had', 'a', 'plot', 'that', 'was', 'followable', 'leslie', 'ann', 'warren', 'made', 'the', 'movie', 'she', 'is', 'such', 'a', 'fantastic', 'under', 'rated', 'actress', 'there', 'were', 'some', 'moments', 'that', 'could', 'have', 'been', 'fleshed', 'out', 'a', 'bit', 'more', 'and', 'some', 'scenes', 'that', 'could', 'probably', 'have', 'been', 'cut', 'to', 'make', 'the', 'room', 'to', 'do', 'so', 'but', 'all', 'in', 'all', 'this', 'is', 'worth', 'the', 'price', 'to', 'rent', 'and', 'see', 'it', 'the', 'acting', 'was', 'good', 'overall', 'brooks', 'himself', 'did', 'a', 'good', 'job', 'without', 'his', 'characteristic', 'speaking', 'to', 'directly', 'to', 'the', 'audience', 'again', 'warren', 'was', 'the', 'best', 'actor', 'in', 'the', 'movie', 'but', 'fume', 'and', 'sailor', 'both', 'played', 'their', 'parts', 'well'], ['when', 'i', 'was', 'little', 'my', 'parents', 'took', 'me', 'along', 'to', 'the', 'theater', 'to', 'see', 'interiors', 'it', 'was', 'one', 'of', 'many', 'movies', 'i', 'watched', 'with', 'my', 'parents', 'but', 'this', 'was', 'the', 'only', 'one', 'we', 'walked', 'out', 'of', 'since', 'then', 'i', 'had', 'never', 'seen', 'interiors', 'until', 'just', 'recently', 'and', 'i', 'could', 'have', 'lived', 'out', 'the', 'rest', 'of', 'my', 'life', 'without', 'it', 'what', 'a', 'pretentious', 'ponderous', 'and', 'painfully', 'boring', 'piece', 'of', 's', 'wine', 'and', 'cheese', 'tripe', 'woody', 'allen', 'is', 'one', 'of', 'my', 'favorite', 'directors', 'but', 'interiors', 'is', 'by', 'far', 'the', 'worst', 'piece', 'of', 'crap', 'of', 'his', 'career', 'in', 'the', 'unmistakable', 'style', 'of', 'ingmar', 'berman', 'allen', 'gives', 'us', 'a', 'dark', 'angular', 'muted', 'insight', 'in', 'to', 'the', 'lives', 'of', 'a', 'family', 'wrought', 'by', 'the', 'psychological', 'damage', 'caused', 'by', 'divorce', 'estrangement', 'career', 'love', 'non', 'love', 'halitosis', 'whatever', 'the', 'film', 'intentionally', 'has', 'no', 'comic', 'relief', 'no', 'music', 'and', 'is', 'drenched', 'in', 'shadowy', 'pathos', 'this', 'film', 'style', 'can', 'be', 'best', 'defined', 'as', 'expressionist', 'in', 'nature', 'using', 'an', 'improvisational', 'method', 'of', 'dialogue', 'to', 'illicit', 'a', 'more', 'pronounced', 'depth', 'of', 'meaning', 'and', 'truth', 'but', 'woody', 'allen', 'is', 'no', 'ingmar', 'bergman', 'the', 'film', 'is', 'painfully', 'slow', 'and', 'dull', 'but', 'beyond', 'that', 'i', 'simply', 'had', 'no', 'connection', 'with', 'or', 'sympathy', 'for', 'any', 'of', 'the', 'characters', 'instead', 'i', 'felt', 'only', 'contempt', 'for', 'this', 'parade', 'of', 'shuffling', 'whining', 'nicotine', 'stained', 'martyrs', 'in', 'a', 'perpetual', 'quest', 'for', 'identity', 'amid', 'a', 'backdrop', 'of', 'cosmopolitan', 'affluence', 'and', 'baked', 'brie', 'intelligentsia', 'the', 'story', 'looms', 'like', 'a', 'fart', 'in', 'the', 'room', 'everyone', 'speaks', 'in', 'affected', 'platitudes', 'and', 'elevated', 'language', 'between', 'cigarettes', 'everyone', 'is', 'lost', 'and', 'struggling', 'desperate', 'to', 'find', 'direction', 'or', 'understanding', 'or', 'whatever', 'and', 'it', 'just', 'goes', 'on', 'and', 'on', 'to', 'the', 'point', 'where', 'you', 'just', 'want', 'to', 'slap', 'all', 'of', 'them', 'it', 's', 'never', 'about', 'resolution', 'it', 's', 'only', 'about', 'interminable', 'introspective', 'babble', 'it', 'is', 'nothing', 'more', 'than', 'a', 'psychological', 'drama', 'taken', 'to', 'an', 'extreme', 'beyond', 'the', 'audience', 's', 'ability', 'to', 'connect', 'woody', 'allen', 'chose', 'to', 'make', 'characters', 'so', 'immersed', 'in', 'themselves', 'we', 'feel', 'left', 'out', 'and', 'for', 'that', 'reason', 'i', 'found', 'this', 'movie', 'painfully', 'self', 'indulgent', 'and', 'spiritually', 'draining', 'i', 'see', 'what', 'he', 'was', 'going', 'for', 'but', 'his', 'insistence', 'on', 'promoting', 'his', 'message', 'through', 'prozac', 'prose', 'and', 'distorted', 'film', 'techniques', 'jettisons', 'it', 'past', 'the', 'point', 'of', 'relevance', 'i', 'highly', 'recommend', 'this', 'one', 'if', 'you', 're', 'feeling', 'a', 'little', 'too', 'happy', 'and', 'need', 'something', 'to', 'remind', 'you', 'of', 'death', 'otherwise', 'let', 's', 'just', 'pretend', 'this', 'film', 'never', 'happened'], ['this', 'isn', 't', 'the', 'comedic', 'robin', 'williams', 'nor', 'is', 'it', 'the', 'quirky', 'insane', 'robin', 'williams', 'of', 'recent', 'thriller', 'fame', 'this', 'is', 'a', 'hybrid', 'of', 'the', 'classic', 'drama', 'without', 'over', 'dramatization', 'mixed', 'with', 'robin', 's', 'new', 'love', 'of', 'the', 'thriller', 'but', 'this', 'isn', 't', 'a', 'thriller', 'per', 'se', 'this', 'is', 'more', 'a', 'mystery', 'suspense', 'vehicle', 'through', 'which', 'williams', 'attempts', 'to', 'locate', 'a', 'sick', 'boy', 'and', 'his', 'keeper', 'br', 'br', 'also', 'starring', 'sandra', 'oh', 'and', 'rory', 'culkin', 'this', 'suspense', 'drama', 'plays', 'pretty', 'much', 'like', 'a', 'news', 'report', 'until', 'william', 's', 'character', 'gets', 'close', 'to', 'achieving', 'his', 'goal', 'br', 'br', 'i', 'must', 'say', 'that', 'i', 'was', 'highly', 'entertained', 'though', 'this', 'movie', 'fails', 'to', 'teach', 'guide', 'inspect', 'or', 'amuse', 'it', 'felt', 'more', 'like', 'i', 'was', 'watching', 'a', 'guy', 'williams', 'as', 'he', 'was', 'actually', 'performing', 'the', 'actions', 'from', 'a', 'third', 'person', 'perspective', 'in', 'other', 'words', 'it', 'felt', 'real', 'and', 'i', 'was', 'able', 'to', 'subscribe', 'to', 'the', 'premise', 'of', 'the', 'story', 'br', 'br', 'all', 'in', 'all', 'it', 's', 'worth', 'a', 'watch', 'though', 'it', 's', 'definitely', 'not', 'friday', 'saturday', 'night', 'fare', 'br', 'br', 'it', 'rates', 'a', 'from', 'br', 'br', 'the', 'fiend'], ['it', 'appears', 'that', 'many', 'critics', 'find', 'the', 'idea', 'of', 'a', 'woody', 'allen', 'drama', 'unpalatable', 'and', 'for', 'good', 'reason', 'they', 'are', 'unbearably', 'wooden', 'and', 'pretentious', 'imitations', 'of', 'bergman', 'and', 'let', 's', 'not', 'kid', 'ourselves', 'critics', 'were', 'mostly', 'supportive', 'of', 'allen', 's', 'bergman', 'pretensions', 'allen', 's', 'whining', 'accusations', 'to', 'the', 'contrary', 'notwithstanding', 'what', 'i', 'don', 't', 'get', 'is', 'this', 'why', 'was', 'allen', 'generally', 'applauded', 'for', 'his', 'originality', 'in', 'imitating', 'bergman', 'but', 'the', 'contemporaneous', 'brian', 'depalma', 'was', 'excoriated', 'for', 'ripping', 'off', 'hitchcock', 'in', 'his', 'suspense', 'horror', 'films', 'in', 'robin', 'wood', 's', 'view', 'it', 's', 'a', 'strange', 'form', 'of', 'cultural', 'snobbery', 'i', 'would', 'have', 'to', 'agree', 'with', 'that'], ['yes', 'its', 'an', 'art', 'to', 'successfully', 'make', 'a', 'slow', 'paced', 'thriller', 'br', 'br', 'the', 'story', 'unfolds', 'in', 'nice', 'volumes', 'while', 'you', 'don', 't', 'even', 'notice', 'it', 'happening', 'br', 'br', 'fine', 'performance', 'by', 'robin', 'williams', 'the', 'sexuality', 'angles', 'in', 'the', 'film', 'can', 'seem', 'unnecessary', 'and', 'can', 'probably', 'affect', 'how', 'much', 'you', 'enjoy', 'the', 'film', 'however', 'the', 'core', 'plot', 'is', 'very', 'engaging', 'the', 'movie', 'doesn', 't', 'rush', 'onto', 'you', 'and', 'still', 'grips', 'you', 'enough', 'to', 'keep', 'you', 'wondering', 'the', 'direction', 'is', 'good', 'use', 'of', 'lights', 'to', 'achieve', 'desired', 'affects', 'of', 'suspense', 'and', 'unexpectedness', 'is', 'good', 'br', 'br', 'very', 'nice', 'time', 'watch', 'if', 'you', 'are', 'looking', 'to', 'lay', 'back', 'and', 'hear', 'a', 'thrilling', 'short', 'story'], ['the', 'second', 'attempt', 'by', 'a', 'new', 'york', 'intellectual', 'in', 'less', 'than', 'years', 'to', 'make', 'a', 'swedish', 'film', 'the', 'first', 'being', 'susan', 'sontag', 's', 'brother', 'carl', 'which', 'was', 'made', 'in', 'sweden', 'with', 'swedish', 'actors', 'no', 'less', 'the', 'results', 'oscar', 'wilde', 'said', 'it', 'best', 'in', 'reference', 'to', 'dickens', 'the', 'old', 'curiosity', 'shop', 'one', 'would', 'have', 'to', 'have', 'a', 'heart', 'of', 'stone', 'not', 'to', 'laugh', 'out', 'loud', 'at', 'the', 'death', 'of', 'little', 'nell', 'pretty', 'much', 'the', 'same', 'thing', 'here', 'interiors', 'is', 'chock', 'full', 'of', 'solemnly', 'intoned', 'howlers', 'i', 'm', 'afraid', 'of', 'my', 'anger', 'looking', 'into', 'the', 'middle', 'distance', 'i', 'don', 't', 'like', 'who', 'i', 'm', 'becoming', 'the', 'directorial', 'quotations', 'to', 'use', 'a', 'polite', 'term', 'from', 'bergman', 'are', 'close', 'to', 'parody', 'the', 'incredibly', 'self', 'involved', 'family', 'keep', 'reminding', 'us', 'of', 'how', 'brilliant', 'and', 'talented', 'they', 'are', 'to', 'the', 'point', 'of', 'strangulation', 'i', 'read', 'a', 'poem', 'of', 'yours', 'the', 'other', 'day', 'it', 'was', 'in', 'i', 'don', 't', 'know', 'the', 'new', 'yorker', 'oh', 'that', 'was', 'an', 'old', 'poem', 'i', 'reworked', 'it', 'far', 'from', 'not', 'caring', 'about', 'these', 'people', 'however', 'i', 'found', 'them', 'quite', 'hilarious', 'much', 'of', 'the', 'dialog', 'is', 'exactly', 'like', 'the', 'funny', 'stuff', 'from', 'allen', 's', 'earlier', 'films', 'only', 'he', 's', 'directed', 'his', 'actors', 'to', 'play', 'the', 'lines', 'straight', 'having', 'not', 'cast', 'himself', 'in', 'the', 'movie', 'he', 'has', 'poor', 'mary', 'beth', 'hurt', 'copy', 'all', 'of', 'his', 'thespian', 'tics', 'intonations', 'and', 'neurotic', 'habits', 'turning', 'her', 'into', 'an', 'embarrassing', 'surrogate', 'much', 'like', 'kenneth', 'branagh', 'in', 'celebrity', 'br', 'br', 'the', 'basic', 'plot', 'dysfunctional', 'family', 'with', 'quietly', 'domineering', 'mother', 'seems', 'to', 'be', 'lifted', 'more', 'or', 'less', 'from', 'bergman', 's', 'winter', 'light', 'the', 'basic', 'family', 'melodrama', 'tricked', 'up', 'with', 'a', 'lot', 'of', 'existential', 'angst', 'it', 'all', 'comes', 'through', 'in', 'the', 'shopworn', 'visual', 'aural', 'tricks', 'the', 'deafening', 'scratching', 'of', 'a', 'pencil', 'on', 'paper', 'the', 'towering', 'surf', 'that', 'dwarfs', 'the', 'people', 'walking', 'on', 'the', 'beach', 'etc', 'etc', 'br', 'br', 'allen', 's', 'later', 'serious', 'films', 'are', 'less', 'embarrassing', 'but', 'also', 'far', 'less', 'entertaining', 'i', 'll', 'take', 'interiors', 'woody', 's', 'rarely', 'made', 'a', 'funnier', 'movie'], ['in', 'this', 'critically', 'acclaimed', 'psychological', 'thriller', 'based', 'on', 'true', 'events', 'gabriel', 'robin', 'williams', 'a', 'celebrated', 'writer', 'and', 'late', 'night', 'talk', 'show', 'host', 'becomes', 'captivated', 'by', 'the', 'harrowing', 'story', 'of', 'a', 'young', 'listener', 'and', 'his', 'adoptive', 'mother', 'toni', 'collette', 'when', 'troubling', 'questions', 'arise', 'about', 'this', 'boy', 's', 'story', 'however', 'gabriel', 'finds', 'himself', 'drawn', 'into', 'a', 'widening', 'mystery', 'that', 'hides', 'a', 'deadly', 'secret', 'according', 'to', 'film', 's', 'official', 'synopsis', 'br', 'br', 'you', 'really', 'should', 'stop', 'reading', 'these', 'comments', 'and', 'watch', 'the', 'film', 'now', 'br', 'br', 'the', 'how', 'did', 'he', 'lose', 'his', 'leg', 'ending', 'with', 'ms', 'collette', 'planning', 'her', 'new', 'life', 'should', 'be', 'chopped', 'off', 'and', 'sent', 'to', 'deleted', 'scenes', 'land', 'it', 's', 'overkill', 'the', 'true', 'nature', 'of', 'her', 'physical', 'and', 'mental', 'ailments', 'should', 'be', 'obvious', 'by', 'the', 'time', 'mr', 'williams', 'returns', 'to', 'new', 'york', 'possibly', 'her', 'blindness', 'could', 'be', 'in', 'question', 'but', 'a', 'revelation', 'could', 'have', 'be', 'made', 'certain', 'in', 'either', 'the', 'highway', 'or', 'video', 'tape', 'scenes', 'the', 'film', 'would', 'benefit', 'from', 'a', 're', 'editing', 'how', 'about', 'a', 'director', 's', 'cut', 'br', 'br', 'williams', 'and', 'bobby', 'cannavale', 'as', 'jess', 'don', 't', 'seem', 'initially', 'believable', 'as', 'a', 'couple', 'a', 'scene', 'or', 'two', 'establishing', 'their', 'relationship', 'might', 'have', 'helped', 'set', 'the', 'stage', 'otherwise', 'the', 'cast', 'is', 'exemplary', 'williams', 'offers', 'an', 'exceptionally', 'strong', 'characterization', 'and', 'not', 'a', 'gay', 'impersonation', 'sandra', 'oh', 'as', 'anna', 'joe', 'morton', 'as', 'ashe', 'and', 'rory', 'culkin', 'pete', 'logand', 'are', 'all', 'perfect', 'br', 'br', 'best', 'of', 'all', 'collette', 's', 'donna', 'belongs', 'in', 'the', 'creepy', 'hall', 'of', 'fame', 'ms', 'oh', 'is', 'correct', 'in', 'saying', 'collette', 'might', 'be', 'you', 'know', 'like', 'that', 'guy', 'from', 'psycho', 'there', 'have', 'been', 'several', 'years', 'when', 'organizations', 'giving', 'acting', 'awards', 'seemed', 'to', 'reach', 'for', 'women', 'due', 'to', 'a', 'slighter', 'dispersion', 'of', 'roles', 'certainly', 'they', 'could', 'have', 'noticed', 'collette', 'with', 'some', 'award', 'consideration', 'she', 'is', 'that', 'good', 'and', 'director', 'patrick', 'stettner', 'definitely', 'evokes', 'hitchcock', 'he', 'even', 'makes', 'getting', 'a', 'sandwich', 'from', 'a', 'vending', 'machine', 'suspenseful', 'br', 'br', 'finally', 'writers', 'stettner', 'armistead', 'maupin', 'and', 'terry', 'anderson', 'deserve', 'gratitude', 'from', 'flight', 'attendants', 'everywhere', 'br', 'br', 'the', 'night', 'listener', 'patrick', 'stettner', 'robin', 'williams', 'toni', 'collette', 'sandra', 'oh', 'rory', 'culkin'], ['i', 'don', 't', 'know', 'who', 'to', 'blame', 'the', 'timid', 'writers', 'or', 'the', 'clueless', 'director', 'it', 'seemed', 'to', 'be', 'one', 'of', 'those', 'movies', 'where', 'so', 'much', 'was', 'paid', 'to', 'the', 'stars', 'angie', 'charlie', 'denise', 'rosanna', 'and', 'jon', 'that', 'there', 'wasn', 't', 'enough', 'left', 'to', 'really', 'make', 'a', 'movie', 'this', 'could', 'have', 'been', 'very', 'entertaining', 'but', 'there', 'was', 'a', 'veil', 'of', 'timidity', 'even', 'cowardice', 'that', 'hung', 'over', 'each', 'scene', 'since', 'it', 'got', 'an', 'r', 'rating', 'anyway', 'why', 'was', 'the', 'ubiquitous', 'bubble', 'bath', 'scene', 'shot', 'with', 'a', 'year', 'old', 'woman', 'and', 'not', 'angie', 'harmon', 'why', 'does', 'sheen', 'sleepwalk', 'through', 'potentially', 'hot', 'relationships', 'with', 'two', 'of', 'the', 'most', 'beautiful', 'and', 'sexy', 'actresses', 'in', 'the', 'world', 'if', 'they', 'were', 'only', 'looking', 'for', 'laughs', 'why', 'not', 'cast', 'whoopi', 'goldberg', 'and', 'judy', 'tenuta', 'instead', 'this', 'was', 'so', 'predictable', 'i', 'was', 'surprised', 'to', 'find', 'that', 'the', 'director', 'wasn', 't', 'a', 'five', 'year', 'old', 'what', 'a', 'waste', 'not', 'just', 'for', 'the', 'viewers', 'but', 'for', 'the', 'actors', 'as', 'well'], ['the', 'night', 'listener', 'robin', 'williams', 'toni', 'collette', 'bobby', 'cannavale', 'rory', 'culkin', 'joe', 'morton', 'sandra', 'oh', 'john', 'cullum', 'lisa', 'emery', 'becky', 'ann', 'baker', 'dir', 'patrick', 'stettner', 'br', 'br', 'hitchcockian', 'suspenser', 'gives', 'williams', 'a', 'stand', 'out', 'low', 'key', 'performance', 'br', 'br', 'what', 'is', 'it', 'about', 'celebrities', 'and', 'fans', 'what', 'is', 'the', 'near', 'paranoia', 'one', 'associates', 'with', 'the', 'other', 'and', 'why', 'is', 'it', 'almost', 'the', 'norm', 'br', 'br', 'in', 'the', 'latest', 'derange', 'fan', 'scenario', 'based', 'on', 'true', 'events', 'no', 'less', 'williams', 'stars', 'as', 'a', 'talk', 'radio', 'personality', 'named', 'gabriel', 'no', 'one', 'who', 'reads', 'stories', 'he', 's', 'penned', 'over', 'the', 'airwaves', 'and', 'has', 'accumulated', 'an', 'interesting', 'fan', 'in', 'the', 'form', 'of', 'a', 'young', 'boy', 'named', 'pete', 'logand', 'culkin', 'who', 'has', 'submitted', 'a', 'manuscript', 'about', 'the', 'travails', 'of', 'his', 'troubled', 'youth', 'to', 'no', 'one', 's', 'editor', 'ashe', 'morton', 'who', 'gives', 'it', 'to', 'no', 'one', 'to', 'read', 'for', 'himself', 'br', 'br', 'no', 'one', 'is', 'naturally', 'disturbed', 'but', 'ultimately', 'intrigued', 'about', 'the', 'nightmarish', 'existence', 'of', 'pete', 'being', 'abducted', 'and', 'sexually', 'abused', 'for', 'years', 'until', 'he', 'was', 'finally', 'rescued', 'by', 'a', 'nurse', 'named', 'donna', 'collette', 'giving', 'an', 'excellent', 'performance', 'who', 'has', 'adopted', 'the', 'boy', 'but', 'her', 'correspondence', 'with', 'no', 'one', 'reveals', 'that', 'pete', 'is', 'dying', 'from', 'aids', 'naturally', 'no', 'one', 'wants', 'to', 'meet', 'the', 'fans', 'but', 'is', 'suddenly', 'in', 'doubt', 'to', 'their', 'possibly', 'devious', 'ulterior', 'motives', 'when', 'the', 'seed', 'is', 'planted', 'by', 'his', 'estranged', 'lover', 'jess', 'cannavale', 'whose', 'sudden', 'departure', 'from', 'their', 'new', 'york', 'city', 'apartment', 'has', 'no', 'one', 'in', 'an', 'emotional', 'tailspin', 'that', 'has', 'only', 'now', 'grown', 'into', 'a', 'tempest', 'in', 'a', 'teacup', 'when', 'he', 'decides', 'to', 'do', 'some', 'investigating', 'into', 'donna', 'and', 'pete', 's', 'backgrounds', 'discovering', 'some', 'truths', 'that', 'he', 'didn', 't', 'anticipate', 'br', 'br', 'written', 'by', 'armistead', 'maupin', 'who', 'co', 'wrote', 'the', 'screenplay', 'with', 'his', 'former', 'lover', 'terry', 'anderson', 'and', 'the', 'film', 's', 'novice', 'director', 'stettner', 'and', 'based', 'on', 'a', 'true', 'story', 'about', 'a', 'fan', 's', 'hoax', 'found', 'out', 'has', 'some', 'hitchcockian', 'moments', 'that', 'run', 'on', 'full', 'tilt', 'like', 'any', 'good', 'old', 'fashioned', 'pot', 'boiler', 'does', 'it', 'helps', 'that', 'williams', 'gives', 'a', 'stand', 'out', 'low', 'key', 'performance', 'as', 'the', 'conflicted', 'good', 'hearted', 'personality', 'who', 'genuinely', 'wants', 'to', 'believe', 'that', 'his', 'number', 'one', 'fan', 'is', 'in', 'fact', 'real', 'and', 'does', 'love', 'him', 'the', 'one', 'thing', 'that', 'has', 'escaped', 'his', 'own', 'reality', 'and', 'has', 'some', 'unsettling', 'dreadful', 'moments', 'with', 'the', 'creepy', 'collette', 'whose', 'one', 'physical', 'trait', 'i', 'will', 'leave', 'unmentioned', 'but', 'underlines', 'the', 'desperation', 'of', 'her', 'character', 'that', 'can', 'rattle', 'you', 'to', 'the', 'core', 'br', 'br', 'however', 'the', 'film', 'runs', 'out', 'of', 'gas', 'and', 'eventually', 'becomes', 'a', 'bit', 'repetitive', 'and', 'predictable', 'despite', 'a', 'finely', 'directed', 'piece', 'of', 'hoodwink', 'and', 'mystery', 'by', 'stettner', 'it', 'pays', 'to', 'listen', 'to', 'your', 'own', 'inner', 'voice', 'be', 'careful', 'of', 'what', 'you', 'hope', 'for'], ['this', 'film', 'is', 'mediocre', 'at', 'best', 'angie', 'harmon', 'is', 'as', 'funny', 'as', 'a', 'bag', 'of', 'hammers', 'her', 'bitchy', 'demeanor', 'from', 'law', 'and', 'order', 'carries', 'over', 'in', 'a', 'failed', 'attempt', 'at', 'comedy', 'charlie', 'sheen', 'is', 'the', 'only', 'one', 'to', 'come', 'out', 'unscathed', 'in', 'this', 'horrible', 'anti', 'comedy', 'the', 'only', 'positive', 'thing', 'to', 'come', 'out', 'of', 'this', 'mess', 'is', 'charlie', 'and', 'denise', 's', 'marriage', 'hopefully', 'that', 'effort', 'produces', 'better', 'results'], ['you', 'know', 'robin', 'williams', 'god', 'bless', 'him', 'is', 'constantly', 'shooting', 'himself', 'in', 'the', 'foot', 'lately', 'with', 'all', 'these', 'dumb', 'comedies', 'he', 'has', 'done', 'this', 'decade', 'with', 'perhaps', 'the', 'exception', 'of', 'death', 'to', 'smoochy', 'which', 'bombed', 'when', 'it', 'came', 'out', 'but', 'is', 'now', 'a', 'cult', 'classic', 'the', 'dramas', 'he', 'has', 'made', 'lately', 'have', 'been', 'fantastic', 'especially', 'insomnia', 'and', 'one', 'hour', 'photo', 'the', 'night', 'listener', 'despite', 'mediocre', 'reviews', 'and', 'a', 'quick', 'dvd', 'release', 'is', 'among', 'his', 'best', 'work', 'period', 'br', 'br', 'this', 'is', 'a', 'very', 'chilling', 'story', 'even', 'though', 'it', 'doesn', 't', 'include', 'a', 'serial', 'killer', 'or', 'anyone', 'that', 'physically', 'dangerous', 'for', 'that', 'matter', 'the', 'concept', 'of', 'the', 'film', 'is', 'based', 'on', 'an', 'actual', 'case', 'of', 'fraud', 'that', 'still', 'has', 'yet', 'to', 'be', 'officially', 'confirmed', 'in', 'high', 'school', 'i', 'read', 'an', 'autobiography', 'by', 'a', 'child', 'named', 'anthony', 'godby', 'johnson', 'who', 'suffered', 'horrific', 'abuse', 'and', 'eventually', 'contracted', 'aids', 'as', 'a', 'result', 'i', 'was', 'moved', 'by', 'the', 'story', 'until', 'i', 'read', 'reports', 'online', 'that', 'johnson', 'may', 'not', 'actually', 'exist', 'when', 'i', 'saw', 'this', 'movie', 'the', 'confused', 'feelings', 'that', 'robin', 'williams', 'so', 'brilliantly', 'portrayed', 'resurfaced', 'in', 'my', 'mind', 'br', 'br', 'toni', 'collette', 'probably', 'gives', 'her', 'best', 'dramatic', 'performance', 'too', 'as', 'the', 'ultimately', 'sociopathic', 'caretaker', 'her', 'role', 'was', 'a', 'far', 'cry', 'from', 'those', 'she', 'had', 'in', 'movies', 'like', 'little', 'miss', 'sunshine', 'there', 'were', 'even', 'times', 'she', 'looked', 'into', 'the', 'camera', 'where', 'i', 'thought', 'she', 'was', 'staring', 'right', 'at', 'me', 'it', 'takes', 'a', 'good', 'actress', 'to', 'play', 'that', 'sort', 'of', 'role', 'and', 'it', 's', 'this', 'understated', 'yet', 'well', 'reviewed', 'role', 'that', 'makes', 'toni', 'collette', 'probably', 'one', 'of', 'the', 'best', 'actresses', 'of', 'this', 'generation', 'not', 'to', 'have', 'even', 'been', 'nominated', 'for', 'an', 'academy', 'award', 'as', 'of', 'it', 's', 'incredible', 'that', 'there', 'is', 'at', 'least', 'one', 'woman', 'in', 'this', 'world', 'who', 'is', 'like', 'this', 'and', 'it', 's', 'scary', 'too', 'br', 'br', 'this', 'is', 'a', 'good', 'dark', 'film', 'that', 'i', 'highly', 'recommend', 'be', 'prepared', 'to', 'be', 'unsettled', 'though', 'because', 'this', 'movie', 'leaves', 'you', 'with', 'a', 'strange', 'feeling', 'at', 'the', 'end'], ['the', 'film', 'is', 'bad', 'there', 'is', 'no', 'other', 'way', 'to', 'say', 'it', 'the', 'story', 'is', 'weak', 'and', 'outdated', 'especially', 'for', 'this', 'country', 'i', 'don', 't', 'think', 'most', 'people', 'know', 'what', 'a', 'walker', 'is', 'or', 'will', 'really', 'care', 'i', 'felt', 'as', 'if', 'i', 'was', 'watching', 'a', 'movie', 'from', 'the', 's', 'the', 'subject', 'was', 'just', 'not', 'believable', 'for', 'the', 'year', 'even', 'being', 'set', 'in', 'dc', 'i', 'think', 'this', 'rang', 'true', 'for', 'everyone', 'else', 'who', 'watched', 'it', 'too', 'as', 'the', 'applause', 'were', 'low', 'and', 'quick', 'at', 'the', 'end', 'most', 'didn', 't', 'stay', 'for', 'the', 'qa', 'either', 'br', 'br', 'i', 'don', 't', 'think', 'schrader', 'really', 'thought', 'the', 'film', 'out', 'ahead', 'of', 'time', 'many', 'of', 'the', 'scenes', 'seemed', 'to', 'be', 'cut', 'short', 'as', 'if', 'they', 'were', 'never', 'finished', 'or', 'he', 'just', 'didn', 't', 'know', 'how', 'to', 'finish', 'them', 'he', 'jumped', 'from', 'one', 'scene', 'to', 'the', 'next', 'and', 'you', 'had', 'to', 'try', 'and', 'figure', 'out', 'or', 'guess', 'what', 'was', 'going', 'on', 'i', 'really', 'didn', 't', 'get', 'woody', 's', 'carter', 'private', 'life', 'or', 'boyfriend', 'either', 'what', 'were', 'all', 'the', 'artistic', 'male', 'bondage', 'and', 'torture', 'pictures', 'from', 'iraq', 'prisons', 'about', 'what', 'was', 'he', 'thinking', 'i', 'think', 'it', 'was', 'his', 'very', 'poor', 'attempt', 'at', 'trying', 'to', 'create', 'this', 'dark', 'private', 'subculture', 'life', 'for', 'woody', 's', 'character', 'car', 'it', 'didn', 't', 'work', 'it', 'didn', 't', 'even', 'seem', 'to', 'make', 'sense', 'really', 'br', 'br', 'the', 'only', 'good', 'thing', 'about', 'this', 'film', 'was', 'woody', 'harrelson', 'he', 'played', 'his', 'character', 'car', 'flawlessly', 'you', 'really', 'did', 'get', 'a', 'great', 'sense', 'of', 'what', 'a', 'walker', 'may', 'have', 'been', 'like', 'say', 'twenty', 'years', 'ago', 'he', 'was', 'great', 'and', 'most', 'likely', 'will', 'never', 'get', 'recognized', 'for', 'it', 'br', 'br', 'as', 'for', 'lauren', 'lily', 'and', 'kristin', 'boring', 'br', 'br', 'don', 't', 'see', 'it', 'it', 'is', 'painful', 'unless', 'you', 'are', 'a', 'true', 'harrelson', 'fan']]\n"
     ]
    }
   ],
   "source": [
    "print(list(map(str.split, reviews))[:20])"
   ]
  },
  {
   "cell_type": "code",
   "execution_count": 11,
   "metadata": {
    "collapsed": false
   },
   "outputs": [],
   "source": [
    "# Convert the reviews to integers, same shape as reviews list, but with integers\n",
    "reviews_ints = [[vocab_to_int[word] for word in review.split()] for review in reviews]"
   ]
  },
  {
   "cell_type": "code",
   "execution_count": 13,
   "metadata": {
    "collapsed": false
   },
   "outputs": [
    {
     "name": "stdout",
     "output_type": "stream",
     "text": [
      "the 64093\n",
      "and 64231\n",
      "episode 59031\n",
      "is 44211\n",
      "[2307, 3771, 44211, 64535, 66465, 30792, 26719, 52739, 44298, 64093, 2069, 53343, 4928, 69487, 23093, 3652, 37692, 10588, 53176, 55318, 4928, 69475, 58643, 22302, 22433, 64093, 31938, 34717, 58805, 22640, 36055, 41420, 31650, 2307, 3771, 59727, 8906, 44211, 54353, 43105, 36055, 45239, 73715, 44211, 69475, 64093, 35951, 36055, 63685, 13645, 64093, 22425, 25605, 49958, 2966, 33886, 64227, 58482, 34134, 56709, 69475, 51705, 64093, 66579, 23681, 64093, 15030, 70859, 48126, 59810, 22640, 23681, 64093, 20860, 1504, 53532, 64231, 34134, 25605, 2814, 1504, 73899, 64093, 59031, 22433, 22873, 64535, 8624, 47165, 43981, 36055, 36370, 6764, 64093, 10588, 1504, 56214, 68720, 44298, 3771, 64535, 50521, 72676, 31474, 1504, 38946, 41357, 36055, 67191, 24626, 23681, 21890, 69475, 8624, 24337, 36055, 2307, 3771, 1504, 23116, 31650, 20274, 42128, 23681, 58643, 43328, 20011, 31650, 2307, 3771, 44211, 637, 1038, 31098, 64535, 46552, 31650, 26719, 4055, 28507]\n"
     ]
    }
   ],
   "source": [
    "for word in ['the', 'and', 'episode', 'is']:\n",
    "    print(word, vocab_to_int[word])\n",
    "print(reviews_ints[0])"
   ]
  },
  {
   "cell_type": "markdown",
   "metadata": {
    "deletable": true,
    "editable": true
   },
   "source": [
    "### Encoding the labels\n",
    "\n",
    "Our labels are \"positive\" or \"negative\". To use these labels in our network, we need to convert them to 0 and 1.\n",
    "\n",
    "> **Exercise:** Convert labels from `positive` and `negative` to 1 and 0, respectively."
   ]
  },
  {
   "cell_type": "code",
   "execution_count": 17,
   "metadata": {
    "collapsed": false
   },
   "outputs": [
    {
     "name": "stdout",
     "output_type": "stream",
     "text": [
      "['positive', 'negative', 'positive', 'negative', 'positive', 'negative', 'positive', 'negative', 'positive', 'negative', 'positive', 'negative', 'positive', 'negative', 'positive', 'negative', 'positive', 'negative', 'positive', 'negative']\n",
      "['positive', 'negative', 'positive', 'negative', 'positive', 'negative', 'positive', 'negative', 'positive', 'negative', 'positive', 'negative', 'positive', 'negative', 'positive', 'negative', 'positive', 'negative', 'positive', 'negative']\n"
     ]
    }
   ],
   "source": [
    "print(labels.split()[:20])\n",
    "print(labels.split()[-20:])"
   ]
  },
  {
   "cell_type": "code",
   "execution_count": 18,
   "metadata": {
    "collapsed": true,
    "deletable": true,
    "editable": true
   },
   "outputs": [],
   "source": [
    "# Convert labels to 1s and 0s for 'positive' and 'negative'\n",
    "labels = [1.0 if label == 'positive' else 0.0 for label in labels.split()]"
   ]
  },
  {
   "cell_type": "code",
   "execution_count": 20,
   "metadata": {
    "collapsed": false
   },
   "outputs": [
    {
     "name": "stdout",
     "output_type": "stream",
     "text": [
      "[1.0, 0.0, 1.0, 0.0, 1.0, 0.0, 1.0, 0.0, 1.0, 0.0, 1.0, 0.0, 1.0, 0.0, 1.0, 0.0, 1.0, 0.0, 1.0, 0.0]\n",
      "[1.0, 0.0, 1.0, 0.0, 1.0, 0.0, 1.0, 0.0, 1.0, 0.0, 1.0, 0.0, 1.0, 0.0, 1.0, 0.0, 1.0, 0.0, 1.0, 0.0]\n"
     ]
    }
   ],
   "source": [
    "print(labels[:20])\n",
    "print(labels[-20:])"
   ]
  },
  {
   "cell_type": "markdown",
   "metadata": {
    "deletable": true,
    "editable": true
   },
   "source": [
    "If you built `labels` correctly, you should see the next output."
   ]
  },
  {
   "cell_type": "code",
   "execution_count": 21,
   "metadata": {
    "collapsed": false,
    "deletable": true,
    "editable": true
   },
   "outputs": [
    {
     "name": "stdout",
     "output_type": "stream",
     "text": [
      "Zero-length reviews: 1\n",
      "Maximum review length: 2514\n"
     ]
    }
   ],
   "source": [
    "from collections import Counter\n",
    "review_lens = Counter([len(x) for x in reviews_ints])\n",
    "print(\"Zero-length reviews: {}\".format(review_lens[0]))\n",
    "print(\"Maximum review length: {}\".format(max(review_lens)))"
   ]
  },
  {
   "cell_type": "markdown",
   "metadata": {
    "deletable": true,
    "editable": true
   },
   "source": [
    "Okay, a couple issues here. We seem to have one review with zero length. And, the maximum review length is way too many steps for our RNN. Let's truncate to 200 steps. For reviews shorter than 200, we'll pad with 0s. For reviews longer than 200, we can truncate them to the first 200 characters.\n",
    "\n",
    "> **Exercise:** First, remove the review with zero length from the `reviews_ints` list."
   ]
  },
  {
   "cell_type": "code",
   "execution_count": 28,
   "metadata": {
    "collapsed": true,
    "deletable": true,
    "editable": true
   },
   "outputs": [],
   "source": [
    "# Filter out that review with 0 length\n",
    "empty_review_indices = [idx for idx, words in enumerate(reviews_ints) if not words]\n",
    "for idx in reversed(empty_review_indices):\n",
    "    del reviews_ints[idx]\n",
    "    del labels[idx]\n",
    "labels = np.array(labels)"
   ]
  },
  {
   "cell_type": "code",
   "execution_count": 29,
   "metadata": {
    "collapsed": false
   },
   "outputs": [
    {
     "name": "stdout",
     "output_type": "stream",
     "text": [
      "Zero-length reviews: 0\n",
      "Maximum review length: 2514\n"
     ]
    }
   ],
   "source": [
    "from collections import Counter\n",
    "review_lens = Counter([len(x) for x in reviews_ints])\n",
    "print(\"Zero-length reviews: {}\".format(review_lens[0]))\n",
    "print(\"Maximum review length: {}\".format(max(review_lens)))"
   ]
  },
  {
   "cell_type": "markdown",
   "metadata": {
    "deletable": true,
    "editable": true
   },
   "source": [
    "> **Exercise:** Now, create an array `features` that contains the data we'll pass to the network. The data should come from `review_ints`, since we want to feed integers to the network. Each row should be 200 elements long. For reviews shorter than 200 words, left pad with 0s. That is, if the review is `['best', 'movie', 'ever']`, `[117, 18, 128]` as integers, the row will look like `[0, 0, 0, ..., 0, 117, 18, 128]`. For reviews longer than 200, use on the first 200 words as the feature vector.\n",
    "\n",
    "This isn't trivial and there are a bunch of ways to do this. But, if you're going to be building your own deep learning networks, you're going to have to get used to preparing your data.\n",
    "\n"
   ]
  },
  {
   "cell_type": "code",
   "execution_count": 36,
   "metadata": {
    "collapsed": false,
    "deletable": true,
    "editable": true
   },
   "outputs": [],
   "source": [
    "seq_len = 200\n",
    "features = np.zeros((len(reviews_ints), seq_len), dtype='int32')\n",
    "for row_idx, words in enumerate(reviews_ints):\n",
    "    words_taken_into_account = words[:200]\n",
    "    features[row_idx,-len(words_taken_into_account):] = words_taken_into_account"
   ]
  },
  {
   "cell_type": "markdown",
   "metadata": {
    "deletable": true,
    "editable": true
   },
   "source": [
    "If you build features correctly, it should look like that cell output below."
   ]
  },
  {
   "cell_type": "code",
   "execution_count": 31,
   "metadata": {
    "collapsed": false,
    "deletable": true,
    "editable": true
   },
   "outputs": [
    {
     "data": {
      "text/plain": [
       "array([[    0,     0,     0,     0,     0,     0,     0,     0,     0,\n",
       "            0,     0,     0,     0,     0,     0,     0,     0,     0,\n",
       "            0,     0,     0,     0,     0,     0,     0,     0,     0,\n",
       "            0,     0,     0,     0,     0,     0,     0,     0,     0,\n",
       "            0,     0,     0,     0,     0,     0,     0,     0,     0,\n",
       "            0,     0,     0,     0,     0,     0,     0,     0,     0,\n",
       "            0,     0,     0,     0,     0,     0,  2307,  3771, 44211,\n",
       "        64535, 66465, 30792, 26719, 52739, 44298, 64093,  2069, 53343,\n",
       "         4928, 69487, 23093,  3652, 37692, 10588, 53176, 55318,  4928,\n",
       "        69475, 58643, 22302, 22433, 64093, 31938, 34717, 58805, 22640,\n",
       "        36055, 41420, 31650,  2307,  3771, 59727,  8906, 44211, 54353,\n",
       "        43105],\n",
       "       [    0,     0,     0,     0,     0,     0,     0,     0,     0,\n",
       "            0,     0,     0,     0,     0,     0,     0,     0,     0,\n",
       "            0,     0,     0,     0,     0,     0,     0,     0,     0,\n",
       "            0,     0,     0,     0,     0,     0,     0,     0,     0,\n",
       "            0,     0,     0,     0,     0,     0,     0,     0,     0,\n",
       "            0,     0,     0,     0,     0,     0,     0,     0,     0,\n",
       "            0,     0,     0,     0,     0,     0,     0,     0,     0,\n",
       "            0,     0,     0,     0,     0,     0,     0,     0,     0,\n",
       "            0,     0,     0,     0,     0,     0,     0,     0,     0,\n",
       "            0,     0,     0,     0,     0, 67502, 23681, 64535, 28284,\n",
       "        49958, 69372, 19815, 48002, 64502, 64535, 25835, 25676, 29008,\n",
       "         1502],\n",
       "       [62227, 25580, 70123,  4928,  7287, 60856, 62057, 69372, 14003,\n",
       "        33137, 37765, 64502, 22302, 50444, 72520, 64535, 42541, 36055,\n",
       "        61868, 52634,  9084, 64093, 60766, 31650, 24989, 64887,  1304,\n",
       "        23851, 49958, 37138, 19167, 14534, 58668, 36055, 10588, 11098,\n",
       "        25580, 12156, 64502, 64093,  6026, 39601, 66307, 20011, 23681,\n",
       "        64093, 29292,  4928, 17413, 64535,  7535, 36778, 11503, 51886,\n",
       "        37692, 40093, 55318,  4928, 38986, 64093, 45614,  9084, 25300,\n",
       "        46011, 23805, 36055, 34983, 66762, 64093, 53164, 25013, 25580,\n",
       "        51886, 48642,  1778, 10031, 45638, 44061, 36055, 58251, 30010,\n",
       "         9084, 64093, 59446, 48712, 48712, 50444, 31098, 48642, 20977,\n",
       "        24989,  6864, 64535, 73911, 36055, 56647,  9084, 64093, 59446,\n",
       "        64502],\n",
       "       [37388, 25676,  4928, 64535,  4275, 64125, 46384, 11934, 44211,\n",
       "        14168, 30010,  1502, 42013, 23793, 55318,  7230, 36055, 59592,\n",
       "        45337, 35249, 71467, 55381, 36596, 49958, 44211, 68084,  1054,\n",
       "        64535, 48272, 23681, 30917, 59727, 36055, 70663, 66478, 22433,\n",
       "         7537, 23681, 26719, 26799, 23688, 36055, 64093,  5690,  4928,\n",
       "        64535, 50246, 35343,  9084, 64941, 44211, 71467, 22446, 36430,\n",
       "        19888, 69013, 28508,  1737, 64093, 46384, 20281, 46429,  6992,\n",
       "         4928, 59535, 50444, 71049, 52589, 64093, 11934, 44211,  3862,\n",
       "        25597, 58602, 64093, 19258, 33199, 69940, 32814, 56445, 70663,\n",
       "        63950,  4220, 59727, 32631,  7455, 15244, 34750, 43772, 31600,\n",
       "        49958, 25665, 64093, 10394, 58902, 29008,  1502, 24652, 20998,\n",
       "         1778],\n",
       "       [    0,     0,     0,     0,     0,     0,     0,     0,     0,\n",
       "            0,     0,     0,     0,     0,     0,     0,     0,     0,\n",
       "            0,     0,     0,     0,     0,     0,     0,     0,     0,\n",
       "            0,     0,     0,     0,     0,     0,     0,     0,     0,\n",
       "            0,     0,     0,     0,     0,     0,     0,     0,     0,\n",
       "            0,     0,     0,     0,     0,  9087, 60844, 22357, 58602,\n",
       "        54745, 45447, 72231, 21993, 67647, 33789, 44917,  1504, 69096,\n",
       "        58261, 20418, 64231, 55547,  4523, 22433,   567, 17445, 11786,\n",
       "        50867, 36055, 43301, 64093, 18845,  9084, 68202, 44211, 64535,\n",
       "        50521,  4928, 65202,  4928, 13799, 22433, 50083,  5921, 64093,\n",
       "        67017,  9084,  4987, 44211, 35343, 15391, 67407, 26799, 58761,\n",
       "        23681],\n",
       "       [    0,     0,     0,     0,     0,     0,     0,     0,     0,\n",
       "            0,     0,     0,     0,     0,     0,     0,     0,     0,\n",
       "            0,     0,     0,     0,     0,     0,     0,     0,     0,\n",
       "            0,     0,     0,     0,     0,     0,     0,     0,     0,\n",
       "            0,     0,     0,     0,     0,     0,     0,     0,     0,\n",
       "            0,     0,     0,     0,     0,     0,     0,     0,     0,\n",
       "          606, 27668, 70715, 66577,  1504,  2886, 28507, 52537, 58643,\n",
       "        20667,  9084, 44298,  8644, 54367,  9084, 64093, 54828, 23681,\n",
       "        64093, 52641, 55448,   606, 33200, 28616, 36055, 30449, 23681,\n",
       "        66053,  2814, 27294, 72564, 64093, 36113,  1502, 28508, 52641,\n",
       "        28284, 35161, 64093, 14137,  4523,  1401,  3694,  4928, 26799,\n",
       "        65671],\n",
       "       [    0,     0,     0,     0,     0,     0,     0,     0,     0,\n",
       "            0,     0,     0,     0,     0,     0,     0,     0,     0,\n",
       "            0,     0,     0,     0,     0,     0,     0,     0,     0,\n",
       "            0,     0,     0,     0,     0,     0,     0,     0,     0,\n",
       "            0,     0,     0,     0,     0,     0,     0,     0,     0,\n",
       "            0,     0,     0,     0,     0,     0,     0,     0,     0,\n",
       "            0,     0,     0,     0,     0,     0,     0,     0,     0,\n",
       "            0,     0,     0,     0,     0,     0,     0,     0,     0,\n",
       "            0,     0,     0,     0,   606, 44211, 27944, 64093, 39601,\n",
       "        33924, 27668, 67182, 64093,  5711, 63575, 72710,  3774, 52322,\n",
       "        26719, 31007, 22607, 31944, 64535, 25982, 61436, 23681, 62227,\n",
       "        22143],\n",
       "       [    0,     0,     0,     0,     0,     0,     0,     0,     0,\n",
       "            0,     0,     0,     0,     0,     0,     0,     0,     0,\n",
       "            0,     0,     0,     0,     0,     0,     0,     0,     0,\n",
       "            0,     0,     0,     0,     0,     0,     0,     0,     0,\n",
       "            0,     0,     0,     0,     0,     0,     0,     0,     0,\n",
       "            0,     0, 20652, 58125,  1504, 22947,   606, 44211, 53633,\n",
       "        36055, 45638, 33137,  1400, 27668, 50444, 48689,  1778, 27336,\n",
       "        69096, 28773, 29008, 37718, 44298, 64093,  6710, 70611, 66307,\n",
       "        24120, 39808, 34134, 15877, 29008, 64231, 22607, 27670, 68772,\n",
       "        64093, 23927, 37243, 64231, 49812, 39974, 26611, 40884,   606,\n",
       "        67502, 44211, 45941, 11308, 36055, 27670, 64093, 28838, 23681,\n",
       "        64535],\n",
       "       [    0,     0,     0,     0,     0,     0,     0,     0,     0,\n",
       "            0,     0,     0,     0,     0,     0,     0,     0,     0,\n",
       "            0,     0,     0,     0,     0,     0,     0,     0,     0,\n",
       "            0,     0,     0,     0,     0,     0,     0,     0,     0,\n",
       "            0,     0,     0,     0,     0,     0,     0,     0,     0,\n",
       "            0,     0,     0,     0,     0,     0,     0,     0,     0,\n",
       "            0,     0,     0,     0,     0,     0,     0,     0,     0,\n",
       "            0,     0,     0,     0,     0,     0,     0,     0,     0,\n",
       "            0,     0,     0,     0,     0,     0,     0,   606, 44211,\n",
       "        22607, 64093,  7993, 22945,  5711, 27668, 26719, 26611, 54353,\n",
       "        49533, 11753, 73715, 39601, 23681, 70663, 13330, 64231, 73737,\n",
       "        41707],\n",
       "       [ 2814,  1504, 26611, 55630, 58643,  2065, 38097, 22640, 13926,\n",
       "        36055, 64093,  2887, 36055, 33886, 27608, 26719, 26611, 24626,\n",
       "        23681, 20274, 13330,  1504, 18243,  1502, 58643,  2065, 50444,\n",
       "          606, 26611, 64093, 55249, 24626, 27999, 45971, 29008, 23681,\n",
       "        69532, 35370,  1504, 41707, 72520, 20418, 27608,   164, 17413,\n",
       "        24270, 64231,  1504, 24120, 69096, 66834, 29008, 64093, 64925,\n",
       "        23681, 58643, 53176,  6902, 26719, 31098, 64535,  7069, 41588,\n",
       "        64231, 68588, 27848,  2675, 23681, 59727, 37642, 64231, 15124,\n",
       "        68873, 26916, 59906, 44211, 24626, 23681, 58643, 38200, 10288,\n",
       "        50444, 27608, 44211, 58602,   637, 64093, 54028,  2675, 23681,\n",
       "        71805, 23681, 70663, 67310, 22433, 64093, 19943, 66576, 23681,\n",
       "        27239]], dtype=int32)"
      ]
     },
     "execution_count": 31,
     "metadata": {},
     "output_type": "execute_result"
    }
   ],
   "source": [
    "features[:10,:100]"
   ]
  },
  {
   "cell_type": "code",
   "execution_count": 13,
   "metadata": {
    "collapsed": false,
    "deletable": true,
    "editable": true
   },
   "outputs": [
    {
     "data": {
      "text/plain": [
       "array([[    0,     0,     0,     0,     0,     0,     0,     0,     0,\n",
       "            0,     0,     0,     0,     0,     0,     0,     0,     0,\n",
       "            0,     0,     0,     0,     0,     0,     0,     0,     0,\n",
       "            0,     0,     0,     0,     0,     0,     0,     0,     0,\n",
       "            0,     0,     0,     0,     0,     0,     0,     0,     0,\n",
       "            0,     0,     0,     0,     0,     0,     0,     0,     0,\n",
       "            0,     0,     0,     0,     0,     0, 21282,   308,     6,\n",
       "            3,  1050,   207,     8,  2143,    32,     1,   171,    57,\n",
       "           15,    49,    81,  5832,    44,   382,   110,   140,    15,\n",
       "         5236,    60,   154,     9,     1,  5014,  5899,   475,    71,\n",
       "            5,   260,    12, 21282,   308,    13,  1981,     6,    74,\n",
       "         2396],\n",
       "       [    0,     0,     0,     0,     0,     0,     0,     0,     0,\n",
       "            0,     0,     0,     0,     0,     0,     0,     0,     0,\n",
       "            0,     0,     0,     0,     0,     0,     0,     0,     0,\n",
       "            0,     0,     0,     0,     0,     0,     0,     0,     0,\n",
       "            0,     0,     0,     0,     0,     0,     0,     0,     0,\n",
       "            0,     0,     0,     0,     0,     0,     0,     0,     0,\n",
       "            0,     0,     0,     0,     0,     0,     0,     0,     0,\n",
       "            0,     0,     0,     0,     0,     0,     0,     0,     0,\n",
       "            0,     0,     0,     0,     0,     0,     0,     0,     0,\n",
       "            0,     0,     0,     0,     0,    63,     4,     3,   125,\n",
       "           36,    47,  7487,  1397,    16,     3,  4212,   505,    45,\n",
       "           17],\n",
       "       [23249,    42, 55982,    15,   707, 17288,  3398,    47,    77,\n",
       "           35,  1822,    16,   154,    19,   114,     3,  1308,     5,\n",
       "          336,   147,    22,     1,   857,    12,    70,   281,  1170,\n",
       "          399,    36,   120,   283,    38,   169,     5,   382,   158,\n",
       "           42,  2278,    16,     1,   541,    90,    78,   102,     4,\n",
       "            1,  3256,    15,    43,     3,   407,  1069,   136,  8165,\n",
       "           44,   182,   140,    15,  3054,     1,   321,    22,  4827,\n",
       "        28571,   346,     5,  3093,  2094,     1, 18970, 18062,    42,\n",
       "         8165,    46,    33,   236,    29,   370,     5,   130,    56,\n",
       "           22,     1,  1928,     7,     7,    19,    48,    46,    21,\n",
       "           70,   345,     3,  2102,     5,   408,    22,     1,  1928,\n",
       "           16],\n",
       "       [ 4504,   505,    15,     3,  3352,   162,  8369,  1655,     6,\n",
       "         4860,    56,    17,  4513,  5629,   140, 11938,     5,   996,\n",
       "         4969,  2947,  4464,   566,  1202,    36,     6,  1520,    96,\n",
       "            3,   744,     4, 28265,    13,     5,    27,  3464,     9,\n",
       "        10794,     4,     8,   111,  3024,     5,     1,  1027,    15,\n",
       "            3,  4400,    82,    22,  2058,     6,  4464,   538,  2773,\n",
       "         7123, 41932,    41,   463,     1,  8369, 62989,   302,   123,\n",
       "           15,  4230,    19,  1671,   923,     1,  1655,     6,  6166,\n",
       "        20692,    34,     1,   980,  1751, 22804,   646, 25292,    27,\n",
       "          106, 11901,    13, 14278, 15496, 18701,  2459,   466, 21189,\n",
       "           36,  3267,     1,  6436,  1020,    45,    17,  2700,  2500,\n",
       "           33],\n",
       "       [    0,     0,     0,     0,     0,     0,     0,     0,     0,\n",
       "            0,     0,     0,     0,     0,     0,     0,     0,     0,\n",
       "            0,     0,     0,     0,     0,     0,     0,     0,     0,\n",
       "            0,     0,     0,     0,     0,     0,     0,     0,     0,\n",
       "            0,     0,     0,     0,     0,     0,     0,     0,     0,\n",
       "            0,     0,     0,     0,     0,   520,   119,   113,    34,\n",
       "        16673,  1817,  3744,   117,   885, 22019,   721,    10,    28,\n",
       "          124,   108,     2,   115,   137,     9,  1626,  7742,    26,\n",
       "          330,     5,   590,     1,  6165,    22,   386,     6,     3,\n",
       "          349,    15,    50,    15,   231,     9,  7484, 11646,     1,\n",
       "          191,    22,  8994,     6,    82,   881,   101,   111,  3590,\n",
       "            4],\n",
       "       [    0,     0,     0,     0,     0,     0,     0,     0,     0,\n",
       "            0,     0,     0,     0,     0,     0,     0,     0,     0,\n",
       "            0,     0,     0,     0,     0,     0,     0,     0,     0,\n",
       "            0,     0,     0,     0,     0,     0,     0,     0,     0,\n",
       "            0,     0,     0,     0,     0,     0,     0,     0,     0,\n",
       "            0,     0,     0,     0,     0,     0,     0,     0,     0,\n",
       "           11,    20,  3662,   141,    10,   423,    23,   272,    60,\n",
       "         4362,    22,    32,    84,  3305,    22,     1,   172,     4,\n",
       "            1,   952,   507,    11,  4996,  5387,     5,   574,     4,\n",
       "         1154,    54,    53,  5328,     1,   261,    17,    41,   952,\n",
       "          125,    59,     1,   712,   137,   379,   627,    15,   111,\n",
       "         1511],\n",
       "       [    0,     0,     0,     0,     0,     0,     0,     0,     0,\n",
       "            0,     0,     0,     0,     0,     0,     0,     0,     0,\n",
       "            0,     0,     0,     0,     0,     0,     0,     0,     0,\n",
       "            0,     0,     0,     0,     0,     0,     0,     0,     0,\n",
       "            0,     0,     0,     0,     0,     0,     0,     0,     0,\n",
       "            0,     0,     0,     0,     0,     0,     0,     0,     0,\n",
       "            0,     0,     0,     0,     0,     0,     0,     0,     0,\n",
       "            0,     0,     0,     0,     0,     0,     0,     0,     0,\n",
       "            0,     0,     0,     0,    11,     6,   692,     1,    90,\n",
       "         2158,    20, 11793,     1,  2818,  5218,   249,    92,  3007,\n",
       "            8,   126,    24,   201,     3,   803,   634,     4, 23249,\n",
       "         1002],\n",
       "       [    0,     0,     0,     0,     0,     0,     0,     0,     0,\n",
       "            0,     0,     0,     0,     0,     0,     0,     0,     0,\n",
       "            0,     0,     0,     0,     0,     0,     0,     0,     0,\n",
       "            0,     0,     0,     0,     0,     0,     0,     0,     0,\n",
       "            0,     0,     0,     0,     0,     0,     0,     0,     0,\n",
       "            0,     0,   786,   295,    10,   122,    11,     6,   418,\n",
       "            5,    29,    35,   482,    20,    19,  1285,    33,   142,\n",
       "           28,  2667,    45,  1844,    32,     1,  2790,    37,    78,\n",
       "           97,  2439,    67,  3952,    45,     2,    24,   105,   256,\n",
       "            1,   134,  1572,     2, 12612,   452,    14,   319,    11,\n",
       "           63,     6,    98,  1322,     5,   105,     1,  3766,     4,\n",
       "            3],\n",
       "       [    0,     0,     0,     0,     0,     0,     0,     0,     0,\n",
       "            0,     0,     0,     0,     0,     0,     0,     0,     0,\n",
       "            0,     0,     0,     0,     0,     0,     0,     0,     0,\n",
       "            0,     0,     0,     0,     0,     0,     0,     0,     0,\n",
       "            0,     0,     0,     0,     0,     0,     0,     0,     0,\n",
       "            0,     0,     0,     0,     0,     0,     0,     0,     0,\n",
       "            0,     0,     0,     0,     0,     0,     0,     0,     0,\n",
       "            0,     0,     0,     0,     0,     0,     0,     0,     0,\n",
       "            0,     0,     0,     0,     0,     0,     0,    11,     6,\n",
       "           24,     1,   779,  3708,  2818,    20,     8,    14,    74,\n",
       "          325,  2739,    73,    90,     4,    27,    99,     2,   165,\n",
       "           68],\n",
       "       [   54,    10,    14,   116,    60,   798,   552,    71,   364,\n",
       "            5,     1,   731,     5,    66,  8089,     8,    14,    30,\n",
       "            4,   109,    99,    10,   293,    17,    60,   798,    19,\n",
       "           11,    14,     1,    64,    30,    69,  2506,    45,     4,\n",
       "          234,    93,    10,    68,   114,   108,  8089,   363,    43,\n",
       "         1009,     2,    10,    97,    28,  1431,    45,     1,   357,\n",
       "            4,    60,   110,   205,     8,    48,     3,  1929, 11029,\n",
       "            2,  2127,   354,   412,     4,    13,  6676,     2,  2975,\n",
       "         5174,  2125,  1371,     6,    30,     4,    60,   502,   876,\n",
       "           19,  8089,     6,    34,   227,     1,   247,   412,     4,\n",
       "          582,     4,    27,   599,     9,     1, 13829,   395,     4,\n",
       "        14175]])"
      ]
     },
     "execution_count": 13,
     "metadata": {},
     "output_type": "execute_result"
    }
   ],
   "source": [
    "features[:10,:100]"
   ]
  },
  {
   "cell_type": "markdown",
   "metadata": {
    "deletable": true,
    "editable": true
   },
   "source": [
    "## Training, Validation, Test\n",
    "\n"
   ]
  },
  {
   "cell_type": "markdown",
   "metadata": {
    "deletable": true,
    "editable": true
   },
   "source": [
    "With our data in nice shape, we'll split it into training, validation, and test sets.\n",
    "\n",
    "> **Exercise:** Create the training, validation, and test sets here. You'll need to create sets for the features and the labels, `train_x` and `train_y` for example. Define a split fraction, `split_frac` as the fraction of data to keep in the training set. Usually this is set to 0.8 or 0.9. The rest of the data will be split in half to create the validation and testing data."
   ]
  },
  {
   "cell_type": "code",
   "execution_count": 38,
   "metadata": {
    "collapsed": false,
    "deletable": true,
    "editable": true
   },
   "outputs": [
    {
     "name": "stdout",
     "output_type": "stream",
     "text": [
      "\t\t\tFeature Shapes:\n",
      "Train set: \t\t(20000, 200) \n",
      "Validation set: \t(2500, 200) \n",
      "Test set: \t\t(2500, 200)\n"
     ]
    }
   ],
   "source": [
    "split_frac = 0.8\n",
    "\n",
    "def split(x, factor):\n",
    "    end_idx = int(len(x) * factor)\n",
    "    return x[:end_idx], x[end_idx:]\n",
    "\n",
    "train_x, val_x = split(features, split_frac) \n",
    "train_y, val_y = split(labels, split_frac)\n",
    "\n",
    "val_x, test_x = split(val_x, 0.5)\n",
    "val_y, test_y = split(val_y, 0.5)\n",
    "\n",
    "print(\"\\t\\t\\tFeature Shapes:\")\n",
    "print(\"Train set: \\t\\t{}\".format(train_x.shape), \n",
    "      \"\\nValidation set: \\t{}\".format(val_x.shape),\n",
    "      \"\\nTest set: \\t\\t{}\".format(test_x.shape))"
   ]
  },
  {
   "cell_type": "markdown",
   "metadata": {
    "deletable": true,
    "editable": true
   },
   "source": [
    "With train, validation, and text fractions of 0.8, 0.1, 0.1, the final shapes should look like:\n",
    "```\n",
    "                    Feature Shapes:\n",
    "Train set: \t\t (20000, 200) \n",
    "Validation set: \t(2500, 200) \n",
    "Test set: \t\t  (2500, 200)\n",
    "```"
   ]
  },
  {
   "cell_type": "markdown",
   "metadata": {
    "deletable": true,
    "editable": true
   },
   "source": [
    "## Build the graph\n",
    "\n",
    "Here, we'll build the graph. First up, defining the hyperparameters.\n",
    "\n",
    "* `lstm_size`: Number of units in the hidden layers in the LSTM cells. Usually larger is better performance wise. Common values are 128, 256, 512, etc.\n",
    "* `lstm_layers`: Number of LSTM layers in the network. I'd start with 1, then add more if I'm underfitting.\n",
    "* `batch_size`: The number of reviews to feed the network in one training pass. Typically this should be set as high as you can go without running out of memory.\n",
    "* `learning_rate`: Learning rate"
   ]
  },
  {
   "cell_type": "code",
   "execution_count": 42,
   "metadata": {
    "collapsed": true,
    "deletable": true,
    "editable": true
   },
   "outputs": [],
   "source": [
    "lstm_size = 256\n",
    "lstm_layers = 1\n",
    "batch_size = 500\n",
    "learning_rate = 0.001"
   ]
  },
  {
   "cell_type": "markdown",
   "metadata": {
    "deletable": true,
    "editable": true
   },
   "source": [
    "For the network itself, we'll be passing in our 200 element long review vectors. Each batch will be `batch_size` vectors. We'll also be using dropout on the LSTM layer, so we'll make a placeholder for the keep probability."
   ]
  },
  {
   "cell_type": "markdown",
   "metadata": {
    "deletable": true,
    "editable": true
   },
   "source": [
    "> **Exercise:** Create the `inputs_`, `labels_`, and drop out `keep_prob` placeholders using `tf.placeholder`. `labels_` needs to be two-dimensional to work with some functions later.  Since `keep_prob` is a scalar (a 0-dimensional tensor), you shouldn't provide a size to `tf.placeholder`."
   ]
  },
  {
   "cell_type": "code",
   "execution_count": 62,
   "metadata": {
    "collapsed": true,
    "deletable": true,
    "editable": true
   },
   "outputs": [],
   "source": [
    "n_words = len(vocab_to_int) + 1 # Adding 1 because we use 0's for padding, dictionary started at 1\n",
    "\n",
    "# Create the graph object\n",
    "graph = tf.Graph()\n",
    "# Add nodes to the graph\n",
    "with graph.as_default():\n",
    "    inputs_ = tf.placeholder(tf.int32, [None, seq_len])\n",
    "    labels_ = tf.placeholder(tf.int32, [None, None])\n",
    "    keep_prob = tf.placeholder(tf.float32)"
   ]
  },
  {
   "cell_type": "markdown",
   "metadata": {
    "deletable": true,
    "editable": true
   },
   "source": [
    "### Embedding\n",
    "\n",
    "Now we'll add an embedding layer. We need to do this because there are 74000 words in our vocabulary. It is massively inefficient to one-hot encode our classes here. You should remember dealing with this problem from the word2vec lesson. Instead of one-hot encoding, we can have an embedding layer and use that layer as a lookup table. You could train an embedding layer using word2vec, then load it here. But, it's fine to just make a new layer and let the network learn the weights.\n",
    "\n",
    "> **Exercise:** Create the embedding lookup matrix as a `tf.Variable`. Use that embedding matrix to get the embedded vectors to pass to the LSTM cell with [`tf.nn.embedding_lookup`](https://www.tensorflow.org/api_docs/python/tf/nn/embedding_lookup). This function takes the embedding matrix and an input tensor, such as the review vectors. Then, it'll return another tensor with the embedded vectors. So, if the embedding layer has 200 units, the function will return a tensor with size [batch_size, 200].\n",
    "\n"
   ]
  },
  {
   "cell_type": "code",
   "execution_count": 63,
   "metadata": {
    "collapsed": true,
    "deletable": true,
    "editable": true
   },
   "outputs": [],
   "source": [
    "# Size of the embedding vectors (number of units in the embedding layer)\n",
    "embed_size = 300 \n",
    "\n",
    "with graph.as_default():\n",
    "    xavier_initializer = tf.contrib.layers.xavier_initializer()\n",
    "    embedding = tf.Variable(xavier_initializer([n_words, embed_size]))\n",
    "    embed = tf.nn.embedding_lookup(embedding, inputs_)"
   ]
  },
  {
   "cell_type": "markdown",
   "metadata": {
    "deletable": true,
    "editable": true
   },
   "source": [
    "### LSTM cell\n",
    "\n",
    "<img src=\"assets/network_diagram.png\" width=400px>\n",
    "\n",
    "Next, we'll create our LSTM cells to use in the recurrent network ([TensorFlow documentation](https://www.tensorflow.org/api_docs/python/tf/contrib/rnn)). Here we are just defining what the cells look like. This isn't actually building the graph, just defining the type of cells we want in our graph.\n",
    "\n",
    "To create a basic LSTM cell for the graph, you'll want to use `tf.contrib.rnn.BasicLSTMCell`. Looking at the function documentation:\n",
    "\n",
    "```\n",
    "tf.contrib.rnn.BasicLSTMCell(num_units, forget_bias=1.0, input_size=None, state_is_tuple=True, activation=<function tanh at 0x109f1ef28>)\n",
    "```\n",
    "\n",
    "you can see it takes a parameter called `num_units`, the number of units in the cell, called `lstm_size` in this code. So then, you can write something like \n",
    "\n",
    "```\n",
    "lstm = tf.contrib.rnn.BasicLSTMCell(num_units)\n",
    "```\n",
    "\n",
    "to create an LSTM cell with `num_units`. Next, you can add dropout to the cell with `tf.contrib.rnn.DropoutWrapper`. This just wraps the cell in another cell, but with dropout added to the inputs and/or outputs. It's a really convenient way to make your network better with almost no effort! So you'd do something like\n",
    "\n",
    "```\n",
    "drop = tf.contrib.rnn.DropoutWrapper(cell, output_keep_prob=keep_prob)\n",
    "```\n",
    "\n",
    "Most of the time, your network will have better performance with more layers. That's sort of the magic of deep learning, adding more layers allows the network to learn really complex relationships. Again, there is a simple way to create multiple layers of LSTM cells with `tf.contrib.rnn.MultiRNNCell`:\n",
    "\n",
    "```\n",
    "cell = tf.contrib.rnn.MultiRNNCell([drop] * lstm_layers)\n",
    "```\n",
    "\n",
    "Here, `[drop] * lstm_layers` creates a list of cells (`drop`) that is `lstm_layers` long. The `MultiRNNCell` wrapper builds this into multiple layers of RNN cells, one for each cell in the list.\n",
    "\n",
    "So the final cell you're using in the network is actually multiple (or just one) LSTM cells with dropout. But it all works the same from an architectural viewpoint, just a more complicated graph in the cell.\n",
    "\n",
    "> **Exercise:** Below, use `tf.contrib.rnn.BasicLSTMCell` to create an LSTM cell. Then, add drop out to it with `tf.contrib.rnn.DropoutWrapper`. Finally, create multiple LSTM layers with `tf.contrib.rnn.MultiRNNCell`.\n",
    "\n",
    "Here is [a tutorial on building RNNs](https://www.tensorflow.org/tutorials/recurrent) that will help you out.\n"
   ]
  },
  {
   "cell_type": "code",
   "execution_count": 64,
   "metadata": {
    "collapsed": false,
    "deletable": true,
    "editable": true
   },
   "outputs": [],
   "source": [
    "with graph.as_default():\n",
    "    \n",
    "    def get_cell():\n",
    "        # Your basic LSTM cell\n",
    "        lstm = tf.contrib.rnn.BasicLSTMCell(lstm_size)\n",
    "\n",
    "        # Add dropout to the cell\n",
    "        drop = tf.contrib.rnn.DropoutWrapper(lstm, output_keep_prob=keep_prob)\n",
    "        \n",
    "        return drop\n",
    "    \n",
    "    # Stack up multiple LSTM layers, for deep learning\n",
    "    cell = tf.contrib.rnn.MultiRNNCell([get_cell() for _ in range(lstm_layers)])\n",
    "    \n",
    "    # Getting an initial state of all zeros\n",
    "    initial_state = cell.zero_state(batch_size, tf.float32)"
   ]
  },
  {
   "cell_type": "markdown",
   "metadata": {
    "deletable": true,
    "editable": true
   },
   "source": [
    "### RNN forward pass\n",
    "\n",
    "<img src=\"assets/network_diagram.png\" width=400px>\n",
    "\n",
    "Now we need to actually run the data through the RNN nodes. You can use [`tf.nn.dynamic_rnn`](https://www.tensorflow.org/api_docs/python/tf/nn/dynamic_rnn) to do this. You'd pass in the RNN cell you created (our multiple layered LSTM `cell` for instance), and the inputs to the network.\n",
    "\n",
    "```\n",
    "outputs, final_state = tf.nn.dynamic_rnn(cell, inputs, initial_state=initial_state)\n",
    "```\n",
    "\n",
    "Above I created an initial state, `initial_state`, to pass to the RNN. This is the cell state that is passed between the hidden layers in successive time steps. `tf.nn.dynamic_rnn` takes care of most of the work for us. We pass in our cell and the input to the cell, then it does the unrolling and everything else for us. It returns outputs for each time step and the final_state of the hidden layer.\n",
    "\n",
    "> **Exercise:** Use `tf.nn.dynamic_rnn` to add the forward pass through the RNN. Remember that we're actually passing in vectors from the embedding layer, `embed`.\n",
    "\n"
   ]
  },
  {
   "cell_type": "code",
   "execution_count": 65,
   "metadata": {
    "collapsed": false,
    "deletable": true,
    "editable": true
   },
   "outputs": [],
   "source": [
    "with graph.as_default():\n",
    "    outputs, final_state = tf.nn.dynamic_rnn(cell, embed, initial_state=initial_state)"
   ]
  },
  {
   "cell_type": "markdown",
   "metadata": {
    "deletable": true,
    "editable": true
   },
   "source": [
    "### Output\n",
    "\n",
    "We only care about the final output, we'll be using that as our sentiment prediction. So we need to grab the last output with `outputs[:, -1]`, the calculate the cost from that and `labels_`."
   ]
  },
  {
   "cell_type": "code",
   "execution_count": 66,
   "metadata": {
    "collapsed": true,
    "deletable": true,
    "editable": true
   },
   "outputs": [],
   "source": [
    "with graph.as_default():\n",
    "    predictions = tf.contrib.layers.fully_connected(outputs[:, -1], 1, activation_fn=tf.sigmoid)\n",
    "    cost = tf.losses.mean_squared_error(labels_, predictions)\n",
    "    \n",
    "    optimizer = tf.train.AdamOptimizer(learning_rate).minimize(cost)"
   ]
  },
  {
   "cell_type": "markdown",
   "metadata": {
    "deletable": true,
    "editable": true
   },
   "source": [
    "### Validation accuracy\n",
    "\n",
    "Here we can add a few nodes to calculate the accuracy which we'll use in the validation pass."
   ]
  },
  {
   "cell_type": "code",
   "execution_count": 67,
   "metadata": {
    "collapsed": false,
    "deletable": true,
    "editable": true
   },
   "outputs": [],
   "source": [
    "with graph.as_default():\n",
    "    correct_pred = tf.equal(tf.cast(tf.round(predictions), tf.int32), labels_)\n",
    "    accuracy = tf.reduce_mean(tf.cast(correct_pred, tf.float32))"
   ]
  },
  {
   "cell_type": "markdown",
   "metadata": {
    "deletable": true,
    "editable": true
   },
   "source": [
    "### Batching\n",
    "\n",
    "This is a simple function for returning batches from our data. First it removes data such that we only have full batches. Then it iterates through the `x` and `y` arrays and returns slices out of those arrays with size `[batch_size]`."
   ]
  },
  {
   "cell_type": "code",
   "execution_count": 68,
   "metadata": {
    "collapsed": true,
    "deletable": true,
    "editable": true
   },
   "outputs": [],
   "source": [
    "def get_batches(x, y, batch_size=100):\n",
    "    \n",
    "    n_batches = len(x)//batch_size\n",
    "    x, y = x[:n_batches*batch_size], y[:n_batches*batch_size]\n",
    "    for ii in range(0, len(x), batch_size):\n",
    "        yield x[ii:ii+batch_size], y[ii:ii+batch_size]"
   ]
  },
  {
   "cell_type": "markdown",
   "metadata": {
    "deletable": true,
    "editable": true
   },
   "source": [
    "## Training\n",
    "\n",
    "Below is the typical training code. If you want to do this yourself, feel free to delete all this code and implement it yourself. Before you run this, make sure the `checkpoints` directory exists."
   ]
  },
  {
   "cell_type": "code",
   "execution_count": 69,
   "metadata": {
    "collapsed": false,
    "deletable": true,
    "editable": true
   },
   "outputs": [
    {
     "name": "stdout",
     "output_type": "stream",
     "text": [
      "Epoch: 0/10 Iteration: 5 Train loss: 0.248\n",
      "Epoch: 0/10 Iteration: 10 Train loss: 0.206\n",
      "Epoch: 0/10 Iteration: 15 Train loss: 0.241\n",
      "Epoch: 0/10 Iteration: 20 Train loss: 0.240\n",
      "Epoch: 0/10 Iteration: 25 Train loss: 0.233\n",
      "Val acc: 0.671\n",
      "Epoch: 0/10 Iteration: 30 Train loss: 0.219\n",
      "Epoch: 0/10 Iteration: 35 Train loss: 0.156\n",
      "Epoch: 0/10 Iteration: 40 Train loss: 0.195\n",
      "Epoch: 1/10 Iteration: 45 Train loss: 0.196\n",
      "Epoch: 1/10 Iteration: 50 Train loss: 0.197\n",
      "Val acc: 0.570\n",
      "Epoch: 1/10 Iteration: 55 Train loss: 0.193\n",
      "Epoch: 1/10 Iteration: 60 Train loss: 0.159\n",
      "Epoch: 1/10 Iteration: 65 Train loss: 0.149\n",
      "Epoch: 1/10 Iteration: 70 Train loss: 0.118\n",
      "Epoch: 1/10 Iteration: 75 Train loss: 0.067\n",
      "Val acc: 0.640\n",
      "Epoch: 1/10 Iteration: 80 Train loss: 0.067\n",
      "Epoch: 2/10 Iteration: 85 Train loss: 0.359\n",
      "Epoch: 2/10 Iteration: 90 Train loss: 0.261\n",
      "Epoch: 2/10 Iteration: 95 Train loss: 0.201\n",
      "Epoch: 2/10 Iteration: 100 Train loss: 0.144\n",
      "Val acc: 0.582\n",
      "Epoch: 2/10 Iteration: 105 Train loss: 0.145\n",
      "Epoch: 2/10 Iteration: 110 Train loss: 0.140\n",
      "Epoch: 2/10 Iteration: 115 Train loss: 0.129\n",
      "Epoch: 2/10 Iteration: 120 Train loss: 0.154\n",
      "Epoch: 3/10 Iteration: 125 Train loss: 0.190\n",
      "Val acc: 0.682\n",
      "Epoch: 3/10 Iteration: 130 Train loss: 0.183\n",
      "Epoch: 3/10 Iteration: 135 Train loss: 0.150\n",
      "Epoch: 3/10 Iteration: 140 Train loss: 0.104\n",
      "Epoch: 3/10 Iteration: 145 Train loss: 0.072\n",
      "Epoch: 3/10 Iteration: 150 Train loss: 0.127\n",
      "Val acc: 0.561\n",
      "Epoch: 3/10 Iteration: 155 Train loss: 0.125\n",
      "Epoch: 3/10 Iteration: 160 Train loss: 0.124\n",
      "Epoch: 4/10 Iteration: 165 Train loss: 0.454\n",
      "Epoch: 4/10 Iteration: 170 Train loss: 0.452\n",
      "Epoch: 4/10 Iteration: 175 Train loss: 0.450\n",
      "Val acc: 0.530\n",
      "Epoch: 4/10 Iteration: 180 Train loss: 0.393\n",
      "Epoch: 4/10 Iteration: 185 Train loss: 0.256\n",
      "Epoch: 4/10 Iteration: 190 Train loss: 0.227\n",
      "Epoch: 4/10 Iteration: 195 Train loss: 0.205\n",
      "Epoch: 4/10 Iteration: 200 Train loss: 0.176\n",
      "Val acc: 0.562\n",
      "Epoch: 5/10 Iteration: 205 Train loss: 0.195\n",
      "Epoch: 5/10 Iteration: 210 Train loss: 0.198\n",
      "Epoch: 5/10 Iteration: 215 Train loss: 0.171\n",
      "Epoch: 5/10 Iteration: 220 Train loss: 0.164\n",
      "Epoch: 5/10 Iteration: 225 Train loss: 0.124\n",
      "Val acc: 0.765\n",
      "Epoch: 5/10 Iteration: 230 Train loss: 0.070\n",
      "Epoch: 5/10 Iteration: 235 Train loss: 0.034\n",
      "Epoch: 5/10 Iteration: 240 Train loss: 0.071\n",
      "Epoch: 6/10 Iteration: 245 Train loss: 0.279\n",
      "Epoch: 6/10 Iteration: 250 Train loss: 0.124\n",
      "Val acc: 0.680\n",
      "Epoch: 6/10 Iteration: 255 Train loss: 0.140\n",
      "Epoch: 6/10 Iteration: 260 Train loss: 0.116\n",
      "Epoch: 6/10 Iteration: 265 Train loss: 0.082\n",
      "Epoch: 6/10 Iteration: 270 Train loss: 0.130\n",
      "Epoch: 6/10 Iteration: 275 Train loss: 0.072\n",
      "Val acc: 0.772\n",
      "Epoch: 6/10 Iteration: 280 Train loss: 0.122\n",
      "Epoch: 7/10 Iteration: 285 Train loss: 0.088\n",
      "Epoch: 7/10 Iteration: 290 Train loss: 0.082\n",
      "Epoch: 7/10 Iteration: 295 Train loss: 0.069\n",
      "Epoch: 7/10 Iteration: 300 Train loss: 0.032\n",
      "Val acc: 0.794\n",
      "Epoch: 7/10 Iteration: 305 Train loss: 0.035\n",
      "Epoch: 7/10 Iteration: 310 Train loss: 0.052\n",
      "Epoch: 7/10 Iteration: 315 Train loss: 0.032\n",
      "Epoch: 7/10 Iteration: 320 Train loss: 0.034\n",
      "Epoch: 8/10 Iteration: 325 Train loss: 0.205\n",
      "Val acc: 0.606\n",
      "Epoch: 8/10 Iteration: 330 Train loss: 0.083\n",
      "Epoch: 8/10 Iteration: 335 Train loss: 0.119\n",
      "Epoch: 8/10 Iteration: 340 Train loss: 0.118\n",
      "Epoch: 8/10 Iteration: 345 Train loss: 0.076\n",
      "Epoch: 8/10 Iteration: 350 Train loss: 0.062\n",
      "Val acc: 0.741\n",
      "Epoch: 8/10 Iteration: 355 Train loss: 0.037\n",
      "Epoch: 8/10 Iteration: 360 Train loss: 0.079\n",
      "Epoch: 9/10 Iteration: 365 Train loss: 0.327\n",
      "Epoch: 9/10 Iteration: 370 Train loss: 0.334\n",
      "Epoch: 9/10 Iteration: 375 Train loss: 0.170\n",
      "Val acc: 0.747\n",
      "Epoch: 9/10 Iteration: 380 Train loss: 0.026\n",
      "Epoch: 9/10 Iteration: 385 Train loss: 0.047\n",
      "Epoch: 9/10 Iteration: 390 Train loss: 0.049\n",
      "Epoch: 9/10 Iteration: 395 Train loss: 0.053\n",
      "Epoch: 9/10 Iteration: 400 Train loss: 0.068\n",
      "Val acc: 0.724\n"
     ]
    }
   ],
   "source": [
    "epochs = 10\n",
    "\n",
    "with graph.as_default():\n",
    "    saver = tf.train.Saver()\n",
    "\n",
    "with tf.Session(graph=graph) as sess:\n",
    "    sess.run(tf.global_variables_initializer())\n",
    "    iteration = 1\n",
    "    for e in range(epochs):\n",
    "        state = sess.run(initial_state)\n",
    "        \n",
    "        for ii, (x, y) in enumerate(get_batches(train_x, train_y, batch_size), 1):\n",
    "            feed = {inputs_: x,\n",
    "                    labels_: y[:, None],\n",
    "                    keep_prob: 0.5,\n",
    "                    initial_state: state}\n",
    "            loss, state, _ = sess.run([cost, final_state, optimizer], feed_dict=feed)\n",
    "            \n",
    "            if iteration%5==0:\n",
    "                print(\"Epoch: {}/{}\".format(e, epochs),\n",
    "                      \"Iteration: {}\".format(iteration),\n",
    "                      \"Train loss: {:.3f}\".format(loss))\n",
    "\n",
    "            if iteration%25==0:\n",
    "                val_acc = []\n",
    "                val_state = sess.run(cell.zero_state(batch_size, tf.float32))\n",
    "                for x, y in get_batches(val_x, val_y, batch_size):\n",
    "                    feed = {inputs_: x,\n",
    "                            labels_: y[:, None],\n",
    "                            keep_prob: 1,\n",
    "                            initial_state: val_state}\n",
    "                    batch_acc, val_state = sess.run([accuracy, final_state], feed_dict=feed)\n",
    "                    val_acc.append(batch_acc)\n",
    "                print(\"Val acc: {:.3f}\".format(np.mean(val_acc)))\n",
    "            iteration +=1\n",
    "    saver.save(sess, \"checkpoints/sentiment.ckpt\")"
   ]
  },
  {
   "cell_type": "markdown",
   "metadata": {
    "deletable": true,
    "editable": true
   },
   "source": [
    "## Testing"
   ]
  },
  {
   "cell_type": "code",
   "execution_count": 70,
   "metadata": {
    "collapsed": false,
    "deletable": true,
    "editable": true
   },
   "outputs": [
    {
     "name": "stdout",
     "output_type": "stream",
     "text": [
      "INFO:tensorflow:Restoring parameters from checkpoints/sentiment.ckpt\n",
      "Test accuracy: 0.726\n"
     ]
    }
   ],
   "source": [
    "test_acc = []\n",
    "with tf.Session(graph=graph) as sess:\n",
    "    saver.restore(sess, tf.train.latest_checkpoint('checkpoints'))\n",
    "    test_state = sess.run(cell.zero_state(batch_size, tf.float32))\n",
    "    for ii, (x, y) in enumerate(get_batches(test_x, test_y, batch_size), 1):\n",
    "        feed = {inputs_: x,\n",
    "                labels_: y[:, None],\n",
    "                keep_prob: 1,\n",
    "                initial_state: test_state}\n",
    "        batch_acc, test_state = sess.run([accuracy, final_state], feed_dict=feed)\n",
    "        test_acc.append(batch_acc)\n",
    "    print(\"Test accuracy: {:.3f}\".format(np.mean(test_acc)))"
   ]
  },
  {
   "cell_type": "code",
   "execution_count": null,
   "metadata": {
    "collapsed": true
   },
   "outputs": [],
   "source": []
  }
 ],
 "metadata": {
  "kernelspec": {
   "display_name": "Python 3",
   "language": "python",
   "name": "python3"
  },
  "language_info": {
   "codemirror_mode": {
    "name": "ipython",
    "version": 3
   },
   "file_extension": ".py",
   "mimetype": "text/x-python",
   "name": "python",
   "nbconvert_exporter": "python",
   "pygments_lexer": "ipython3",
   "version": "3.6.3"
  }
 },
 "nbformat": 4,
 "nbformat_minor": 2
}
